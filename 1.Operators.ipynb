{
 "cells": [
  {
   "cell_type": "markdown",
   "id": "83990887",
   "metadata": {},
   "source": [
    "### a.Read a list of numbers and write a program to check whether a particular element is present or not using membership operators."
   ]
  },
  {
   "cell_type": "code",
   "execution_count": 9,
   "id": "88c93ab9",
   "metadata": {},
   "outputs": [
    {
     "name": "stdout",
     "output_type": "stream",
     "text": [
      "Enter list of numbers!..10 20 30 40\n",
      "Enter element to be search!...20\n",
      "Yes\n"
     ]
    }
   ],
   "source": [
    "L1 = input(\"Enter list of numbers!..\").split()\n",
    "ele = int(input(\"Enter element to be search!...\"))\n",
    "L2 = []\n",
    "for i in L1:\n",
    "    L2.append(int(i))\n",
    "if ele in L2:\n",
    "    print(\"Yes\")\n",
    "else:\n",
    "    print(\"No\")"
   ]
  },
  {
   "cell_type": "markdown",
   "id": "a39d2bb4",
   "metadata": {},
   "source": [
    "### b.Read your name and age and write a program to display the year in which you will turn 100 years old."
   ]
  },
  {
   "cell_type": "code",
   "execution_count": 12,
   "id": "8c53767a",
   "metadata": {},
   "outputs": [
    {
     "name": "stdout",
     "output_type": "stream",
     "text": [
      "Enter your name!..nethra\n",
      "Enter age!...35\n",
      "2087\n"
     ]
    }
   ],
   "source": [
    "name = input(\"Enter your name!..\")\n",
    "age = int(input(\"Enter age!...\"))\n",
    "#2022 current year\n",
    "result = 2022 + (100-age)\n",
    "print(result)"
   ]
  },
  {
   "cell_type": "markdown",
   "id": "91cc0b32",
   "metadata": {},
   "source": [
    "### c.Read radius and height of a cone and write a program to find the volume of a cone.\n",
    "#### volume of the cone formula: pie*(r*r)*h/3\n",
    "        ### here r -> radius\n",
    "                 h -> height"
   ]
  },
  {
   "cell_type": "code",
   "execution_count": 13,
   "id": "7d1c7b63",
   "metadata": {},
   "outputs": [
    {
     "name": "stdout",
     "output_type": "stream",
     "text": [
      "3.141592653589793\n"
     ]
    }
   ],
   "source": [
    "import math\n",
    "r1 = math.pi\n",
    "print(r1)"
   ]
  },
  {
   "cell_type": "code",
   "execution_count": 14,
   "id": "b6347670",
   "metadata": {},
   "outputs": [
    {
     "name": "stdout",
     "output_type": "stream",
     "text": [
      "Enter radius!..23\n",
      "ENter height!..34\n",
      "volume of cone is 18834.895155822003\n"
     ]
    }
   ],
   "source": [
    "import math\n",
    "p1 = math.pi\n",
    "radius = int(input(\"Enter radius!..\"))\n",
    "height = int(input(\"ENter height!..\"))\n",
    "volume = p1*(radius*radius)*height/3\n",
    "print(\"volume of cone is\",volume)"
   ]
  },
  {
   "cell_type": "markdown",
   "id": "92eaf562",
   "metadata": {},
   "source": [
    "### d.\tWrite a program to compute distance between two points taking input from the user (Hint: use Pythagorean theorem)\n",
    "\n",
    "#### distance between two points formula:  sqrt((x2-x1)**2 + (y2-y1)**2)"
   ]
  },
  {
   "cell_type": "code",
   "execution_count": 15,
   "id": "e07ed5fa",
   "metadata": {},
   "outputs": [
    {
     "name": "stdout",
     "output_type": "stream",
     "text": [
      "ENter x1 value!..3\n",
      "Enter y1 value!..4\n",
      "Enter x2 value!..5\n",
      "ENter y2 value!..6\n",
      "Distance between two point is:  2.8284271247461903\n"
     ]
    }
   ],
   "source": [
    "x1 = int(input(\"ENter x1 value!..\"))\n",
    "y1 = int(input(\"Enter y1 value!..\"))\n",
    "x2 = int(input(\"Enter x2 value!..\"))\n",
    "y2 = int(input(\"ENter y2 value!..\"))\n",
    "\n",
    "result = math.sqrt(math.pow(x2-x1,2) + math.pow(y2-y1,2))\n",
    "\n",
    "print(\"Distance between two point is: \",result)"
   ]
  },
  {
   "cell_type": "code",
   "execution_count": null,
   "id": "15250862",
   "metadata": {},
   "outputs": [],
   "source": []
  }
 ],
 "metadata": {
  "kernelspec": {
   "display_name": "Python 3",
   "language": "python",
   "name": "python3"
  },
  "language_info": {
   "codemirror_mode": {
    "name": "ipython",
    "version": 3
   },
   "file_extension": ".py",
   "mimetype": "text/x-python",
   "name": "python",
   "nbconvert_exporter": "python",
   "pygments_lexer": "ipython3",
   "version": "3.8.8"
  }
 },
 "nbformat": 4,
 "nbformat_minor": 5
}
