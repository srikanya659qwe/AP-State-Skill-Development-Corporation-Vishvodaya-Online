{
 "cells": [
  {
   "cell_type": "markdown",
   "id": "6a3d1f00",
   "metadata": {},
   "source": [
    "### . Write a program to do the following operations:\n",
    "i.\tCreate a empty dictionary with dict() method\n",
    "ii.\tAdd elements one at a time\n",
    "iii.\tUpdate existing key‟s value\n",
    "iv.\tAccess an element using a key and also get() method\n",
    "v.\tDeleting a key value using del() method\n"
   ]
  },
  {
   "cell_type": "code",
   "execution_count": 24,
   "id": "c941598b",
   "metadata": {},
   "outputs": [
    {
     "name": "stdout",
     "output_type": "stream",
     "text": [
      "{}\n",
      "<class 'dict'>\n"
     ]
    }
   ],
   "source": [
    "# i.\tCreate a empty dictionary with dict() method\n",
    "d1 = dict()\n",
    "print(d1)\n",
    "print(type(d1))"
   ]
  },
  {
   "cell_type": "code",
   "execution_count": 25,
   "id": "c44aa4bd",
   "metadata": {},
   "outputs": [
    {
     "name": "stdout",
     "output_type": "stream",
     "text": [
      "{'name': 'raju', 'rollno': 510, 'branch': 'ece', 1: 100, 2: 'apssdc'}\n"
     ]
    }
   ],
   "source": [
    "# ii.\tAdd elements one at a time\n",
    "d1['name'] ='raju'\n",
    "d1['rollno']=510\n",
    "d1['branch']='ece'\n",
    "d1[1]=100\n",
    "d1[2]='apssdc'\n",
    "print(d1)"
   ]
  },
  {
   "cell_type": "code",
   "execution_count": 8,
   "id": "2764b513",
   "metadata": {},
   "outputs": [
    {
     "name": "stdout",
     "output_type": "stream",
     "text": [
      "{'name': 'raju', 'rollno': 410, 'branch': 'ece', 1: 100, 2: 'apssdc'}\n",
      "{'name': 'raju', 'rollno': 410, 'branch': 'ece', 1: 'tcs', 2: 'apssdc'}\n"
     ]
    }
   ],
   "source": [
    "# iii.\tUpdate existing key‟s value\n",
    "print(d1)\n",
    "d1['rollno'] = 410\n",
    "d1[1]='tcs'\n",
    "print(d1)"
   ]
  },
  {
   "cell_type": "code",
   "execution_count": 11,
   "id": "d5c2e42b",
   "metadata": {},
   "outputs": [
    {
     "name": "stdout",
     "output_type": "stream",
     "text": [
      "{'name': 'raju', 'rollno': 410, 'branch': 'ece', 1: 'tcs', 2: 'apssdc'}\n",
      "raju\n",
      "tcs\n"
     ]
    }
   ],
   "source": [
    "# iv.\tAccess an element using a key and also get() method\n",
    "# dictionary.get(keyname)\n",
    "print(d1)\n",
    "print(d1.get('name'))\n",
    "print(d1.get(1))"
   ]
  },
  {
   "cell_type": "code",
   "execution_count": 27,
   "id": "c656d309",
   "metadata": {},
   "outputs": [
    {
     "name": "stdout",
     "output_type": "stream",
     "text": [
      "{'name': 'raju', 'rollno': 510, 'branch': 'ece', 1: 100, 2: 'apssdc'}\n",
      "apssdc\n"
     ]
    }
   ],
   "source": [
    "# v.\tDeleting a key value using del() method\n",
    "print(d1)\n",
    "print(d1.pop(2))"
   ]
  },
  {
   "cell_type": "code",
   "execution_count": 28,
   "id": "9e62e0f0",
   "metadata": {},
   "outputs": [
    {
     "data": {
      "text/plain": [
       "{'name': 'raju', 'rollno': 510, 'branch': 'ece', 1: 100}"
      ]
     },
     "execution_count": 28,
     "metadata": {},
     "output_type": "execute_result"
    }
   ],
   "source": [
    "d1"
   ]
  },
  {
   "cell_type": "markdown",
   "id": "bd011e31",
   "metadata": {},
   "source": [
    "### Write a program to create a dictionary and apply the following methods:\n",
    "i.\tpop() method\n",
    "ii.\tpopitem() method\n",
    "iii.\tclear() method"
   ]
  },
  {
   "cell_type": "code",
   "execution_count": 31,
   "id": "c85cffef",
   "metadata": {},
   "outputs": [
    {
     "name": "stdout",
     "output_type": "stream",
     "text": [
      "100\n"
     ]
    }
   ],
   "source": [
    "d2 = {1:100,2:200,3:300,'age':23,'branch':'ece',4:3.4}\n",
    "#i.\tpop() method\n",
    "print(d2.pop(1))"
   ]
  },
  {
   "cell_type": "code",
   "execution_count": 32,
   "id": "be934c7c",
   "metadata": {},
   "outputs": [
    {
     "name": "stdout",
     "output_type": "stream",
     "text": [
      "{2: 200, 3: 300, 'age': 23, 'branch': 'ece', 4: 3.4}\n"
     ]
    }
   ],
   "source": [
    "print(d2)"
   ]
  },
  {
   "cell_type": "code",
   "execution_count": 34,
   "id": "1f021e77",
   "metadata": {},
   "outputs": [
    {
     "name": "stdout",
     "output_type": "stream",
     "text": [
      "(4, 3.4)\n"
     ]
    }
   ],
   "source": [
    "# ii.\tpopitem() method\n",
    "# to deletet the last item from the dictionary..\n",
    "print(d2.popitem())"
   ]
  },
  {
   "cell_type": "code",
   "execution_count": 35,
   "id": "5cd26049",
   "metadata": {},
   "outputs": [
    {
     "name": "stdout",
     "output_type": "stream",
     "text": [
      "{2: 200, 3: 300, 'age': 23, 'branch': 'ece'}\n"
     ]
    }
   ],
   "source": [
    "print(d2)"
   ]
  },
  {
   "cell_type": "code",
   "execution_count": 37,
   "id": "95769dae",
   "metadata": {},
   "outputs": [
    {
     "name": "stdout",
     "output_type": "stream",
     "text": [
      "{2: 200, 3: 300, 'age': 23, 'branch': 'ece'}\n",
      "None\n",
      "{}\n"
     ]
    }
   ],
   "source": [
    "# iii.\tclear() method\n",
    "# del()-> delete the entaire dictionary.\n",
    "# clear()-> only delete the data from the dictionary..\n",
    "print(d2)\n",
    "print(d2.clear())\n",
    "print(d2)"
   ]
  },
  {
   "cell_type": "code",
   "execution_count": 38,
   "id": "33dfde4b",
   "metadata": {},
   "outputs": [
    {
     "data": {
      "text/plain": [
       "{}"
      ]
     },
     "execution_count": 38,
     "metadata": {},
     "output_type": "execute_result"
    }
   ],
   "source": [
    "d2"
   ]
  },
  {
   "cell_type": "markdown",
   "id": "e53b4c76",
   "metadata": {},
   "source": [
    "### . Given a dictionary, write a program to find the sum of all items in the dictionary."
   ]
  },
  {
   "cell_type": "code",
   "execution_count": 42,
   "id": "b3943e38",
   "metadata": {},
   "outputs": [
    {
     "name": "stdout",
     "output_type": "stream",
     "text": [
      "sum is :  178\n"
     ]
    }
   ],
   "source": [
    "d3 = {'a':23,'b':10,'c':45,'d':100}\n",
    "sum1 = 0\n",
    "for i in d3.values():# by using d3.values to get only dicitonary values..\n",
    "    sum1 = sum1 + i\n",
    "print(\"sum is : \",sum1)"
   ]
  },
  {
   "cell_type": "markdown",
   "id": "6076ba78",
   "metadata": {},
   "source": [
    "### d. Write a program to merge two dictionaries using update() method."
   ]
  },
  {
   "cell_type": "code",
   "execution_count": 45,
   "id": "4940643a",
   "metadata": {},
   "outputs": [
    {
     "name": "stdout",
     "output_type": "stream",
     "text": [
      "{'a': 100, 'b': 200, 'c': 300, 'name': 'nethra', 'rollno': 410, 'branch': 'ECE'}\n"
     ]
    }
   ],
   "source": [
    "dict1 = {'a':100,'b':200,'c':300}\n",
    "dict2 ={'name':'nethra','rollno':410,'branch':'ECE'}\n",
    "dict1.update(dict2)\n",
    "print(dict1)"
   ]
  },
  {
   "cell_type": "code",
   "execution_count": null,
   "id": "06720cf5",
   "metadata": {},
   "outputs": [],
   "source": []
  }
 ],
 "metadata": {
  "kernelspec": {
   "display_name": "Python 3",
   "language": "python",
   "name": "python3"
  },
  "language_info": {
   "codemirror_mode": {
    "name": "ipython",
    "version": 3
   },
   "file_extension": ".py",
   "mimetype": "text/x-python",
   "name": "python",
   "nbconvert_exporter": "python",
   "pygments_lexer": "ipython3",
   "version": "3.8.8"
  }
 },
 "nbformat": 4,
 "nbformat_minor": 5
}
