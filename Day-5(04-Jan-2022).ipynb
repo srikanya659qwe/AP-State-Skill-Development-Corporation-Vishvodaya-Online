{
 "cells": [
  {
   "cell_type": "markdown",
   "id": "e269638a",
   "metadata": {},
   "source": [
    "### nested-if:\n",
    "        - syntax:\n",
    "                if(condition):\n",
    "                    if(condition):\n",
    "                        stmts\n",
    "                    else:\n",
    "                        stmts\n",
    "                else:\n",
    "                    statements"
   ]
  },
  {
   "cell_type": "code",
   "execution_count": 3,
   "id": "94f9c0f8",
   "metadata": {},
   "outputs": [
    {
     "name": "stdout",
     "output_type": "stream",
     "text": [
      "Enter username!..pythonvec\n",
      "Enter password!..123\n",
      "incorrect password!...\n"
     ]
    }
   ],
   "source": [
    "#Login Page Example:\n",
    "username = \"pythonvec\"\n",
    "password = \"python123\"\n",
    "un = input(\"Enter username!..\")\n",
    "if(username == un):\n",
    "    ps = input(\"Enter password!..\")\n",
    "    if(password == ps):\n",
    "        print(\"Hello welcome!...\")\n",
    "    else:\n",
    "        print(\"incorrect password!...\")\n",
    "else:\n",
    "    print(\"Incorrect username please try again!..\")"
   ]
  },
  {
   "cell_type": "markdown",
   "id": "56c8110c",
   "metadata": {},
   "source": [
    "### Loops:\n",
    "        - Repeat the sequence of instructions until a specific condition is satisfies.\n",
    "        - 1. for\n",
    "        - 2. while\n",
    "for:\n",
    "    syntax:\n",
    "            for variable_name in sequence(string,list,dicitonary,tuple,set):\n",
    "                statements\n",
    "              (or)\n",
    "            - using range function:\n",
    "            \n",
    "            for variable_name in range(start,stop,step):\n",
    "                statements\n",
    "      \n",
    "            - Here default start as '0'\n",
    "            - stop value is always taking n-1\n",
    "            - step is -> to forward the values..\n",
    "            - step dafault value is '1'"
   ]
  },
  {
   "cell_type": "code",
   "execution_count": 9,
   "id": "f89f177d",
   "metadata": {},
   "outputs": [
    {
     "name": "stdout",
     "output_type": "stream",
     "text": [
      "1 2 3 4 5 6 7 8 9 10 "
     ]
    }
   ],
   "source": [
    "# To print the 1 to 10 natural numbers using forloop?\n",
    "#output: 1 2 3 4 5 6 7 8 9 10\n",
    "\n",
    "for i in range(1,11):\n",
    "    print(i,end=\" \")"
   ]
  },
  {
   "cell_type": "code",
   "execution_count": 11,
   "id": "ed9cbee4",
   "metadata": {},
   "outputs": [
    {
     "name": "stdout",
     "output_type": "stream",
     "text": [
      "1 4 7 10 13 16 19 22 "
     ]
    }
   ],
   "source": [
    "# To print the natural numbers using step value..\n",
    "for i in range(1,24,3):\n",
    "    print(i,end=\" \")"
   ]
  },
  {
   "cell_type": "code",
   "execution_count": 13,
   "id": "55ee96c0",
   "metadata": {},
   "outputs": [
    {
     "name": "stdout",
     "output_type": "stream",
     "text": [
      "Enter n value!..15\n",
      "1 2 3 4 5 6 7 8 9 10 11 12 13 14 15 "
     ]
    }
   ],
   "source": [
    "# TO print the 1 to n natural numbers in ascending order?\n",
    "n = int(input(\"Enter n value!..\"))\n",
    "for i in range(1,n+1):\n",
    "    print(i,end=\" \")"
   ]
  },
  {
   "cell_type": "code",
   "execution_count": 16,
   "id": "1caebda9",
   "metadata": {},
   "outputs": [
    {
     "name": "stdout",
     "output_type": "stream",
     "text": [
      "Enter n value!..10\n",
      "10 8 6 4 2 "
     ]
    }
   ],
   "source": [
    "# To print the 1 to n natural numbers in descending order?\n",
    "# 10 9 8 7 6 5 4 3 2 1\n",
    "n = int(input(\"Enter n value!..\"))\n",
    "for i in range(n,0,-2):#(1,9)\n",
    "    print(i,end=\" \")"
   ]
  },
  {
   "cell_type": "code",
   "execution_count": 21,
   "id": "cc55190a",
   "metadata": {},
   "outputs": [
    {
     "name": "stdout",
     "output_type": "stream",
     "text": [
      "Enter n value!..4\n",
      "10\n"
     ]
    }
   ],
   "source": [
    "# TO print the 1 to n natural numbers sum?\n",
    "# n=3 -> 1+2+3=>6\n",
    "s1 = 0\n",
    "n = int(input(\"Enter n value!..\"))\n",
    "for i in range(1,n+1):\n",
    "    s1 = s1 + i\n",
    "print(s1)"
   ]
  },
  {
   "cell_type": "code",
   "execution_count": 24,
   "id": "633c5385",
   "metadata": {},
   "outputs": [
    {
     "name": "stdout",
     "output_type": "stream",
     "text": [
      "p y t h o n   p r o g r a m m i n g "
     ]
    }
   ],
   "source": [
    "s = \"python programming\"\n",
    "for sdc in s:\n",
    "    print(sdc,end=\" \")"
   ]
  },
  {
   "cell_type": "code",
   "execution_count": 25,
   "id": "dc7a4689",
   "metadata": {},
   "outputs": [
    {
     "name": "stdout",
     "output_type": "stream",
     "text": [
      "10 20 30 "
     ]
    }
   ],
   "source": [
    "L1 = [10,20,30]\n",
    "for i in L1:\n",
    "    print(i,end=\" \")"
   ]
  },
  {
   "cell_type": "markdown",
   "id": "e6c791e0",
   "metadata": {},
   "source": [
    "### while:\n",
    "            syntax:\n",
    "                    initialization\n",
    "                    while(condition):\n",
    "                        statements\n",
    "                        increment/decrement"
   ]
  },
  {
   "cell_type": "code",
   "execution_count": 4,
   "id": "8b94419b",
   "metadata": {},
   "outputs": [
    {
     "name": "stdout",
     "output_type": "stream",
     "text": [
      "Enter m value!..123\n",
      "number of digits is : 3\n",
      "0\n"
     ]
    }
   ],
   "source": [
    "# To count the number of digits in a given number?\n",
    "# n = 2675\n",
    "# output: number of digits is : 4\n",
    " \n",
    "m = int(input(\"Enter m value!..\"))\n",
    "c1 = 0\n",
    "while(m!=0):# 2675!=0 -> True\n",
    "    c1 = c1 + 1\n",
    "    m = m//10\n",
    "print(\"number of digits is :\",c1)\n",
    "print(m)"
   ]
  },
  {
   "cell_type": "code",
   "execution_count": null,
   "id": "7108602b",
   "metadata": {},
   "outputs": [],
   "source": [
    "m = 123!=0\n",
    "c1=c1+1\n",
    "10)123(12 -> // -\n",
    "   120\n",
    "=========\n",
    "     3 -> %\n",
    "m = 12"
   ]
  },
  {
   "cell_type": "code",
   "execution_count": 5,
   "id": "34404b71",
   "metadata": {},
   "outputs": [],
   "source": [
    "# forloop:\n",
    "# task1: To print the even numbers in between 1 to n?\n",
    "# task2: To count the number of even numbers in between 1 to n?\n",
    "# task3: To find the the factorial of given number?\n",
    "# task4: TO print the factors of given number?\n",
    "#output: n = 6 -> 1,2,3,6\n",
    "# task5: To print the alphabets to A to Z?\n",
    "# Task6: To read a character and then print the Acsii value of character?"
   ]
  },
  {
   "cell_type": "code",
   "execution_count": 9,
   "id": "77c91d1c",
   "metadata": {},
   "outputs": [
    {
     "name": "stdout",
     "output_type": "stream",
     "text": [
      "Z\n",
      "90\n"
     ]
    }
   ],
   "source": [
    "print(chr(90))# To print the asccii value of character..\n",
    "print(ord('Z'))# To print the character of ascii value..."
   ]
  },
  {
   "cell_type": "code",
   "execution_count": 10,
   "id": "28befc71",
   "metadata": {},
   "outputs": [],
   "source": [
    "#while loop tasks:\n",
    "#task1: To print the sum of digits of a given number?\n",
    "#task2: To check the given number is palindrome or not?\n",
    "# n = 121-> palindrome -> n=123-> not a palindrome"
   ]
  },
  {
   "cell_type": "markdown",
   "id": "8a92cdb5",
   "metadata": {},
   "source": [
    "#### jumpping statements:\n",
    "        - break\n",
    "        - continue"
   ]
  },
  {
   "cell_type": "code",
   "execution_count": 11,
   "id": "43bcc931",
   "metadata": {},
   "outputs": [
    {
     "name": "stdout",
     "output_type": "stream",
     "text": [
      "1 2 3 4 "
     ]
    }
   ],
   "source": [
    "# example on break..\n",
    "for i in range(1,10):\n",
    "    if(i==5):\n",
    "        break\n",
    "    else:\n",
    "        print(i,end=\" \")"
   ]
  },
  {
   "cell_type": "code",
   "execution_count": 12,
   "id": "56b34bca",
   "metadata": {},
   "outputs": [
    {
     "name": "stdout",
     "output_type": "stream",
     "text": [
      "1 2 3 4 6 7 8 9 "
     ]
    }
   ],
   "source": [
    "# example on continue..\n",
    "for i in range(1,10):\n",
    "    if(i==5): # skip the value\n",
    "        continue\n",
    "    else:\n",
    "        print(i,end=\" \")"
   ]
  },
  {
   "cell_type": "code",
   "execution_count": 13,
   "id": "026ce498",
   "metadata": {},
   "outputs": [
    {
     "name": "stdout",
     "output_type": "stream",
     "text": [
      "1\n",
      "2\n",
      "3\n",
      "4\n",
      "hello\n",
      "6\n",
      "7\n",
      "8\n",
      "9\n"
     ]
    }
   ],
   "source": [
    "# example on pass..\n",
    "for i in range(1,10):\n",
    "    if(i==5):\n",
    "        print(\"hello\")\n",
    "        pass\n",
    "    else:\n",
    "        print(i)"
   ]
  },
  {
   "cell_type": "markdown",
   "id": "a34e5345",
   "metadata": {},
   "source": [
    "### functions in python:\n",
    "    \n",
    "             - Function is group of statements,it can be perform the specific task..\n",
    "             - In python by using 'def' keyword we can develop the functions.\n",
    "             - code reusability\n",
    "             - easy debugging\n",
    "#### syntax:\n",
    "        \n",
    "        - def function_name(arguments_list):\n",
    "            statements\n",
    "            return value\n",
    "            \n",
    "        - 4 types of user defined functions.\n",
    "        - 1. with arguments and with return values.\n",
    "        - 2. with arguments and with out return values.\n",
    "        - 3. with out arguments and with return values.\n",
    "        - 4. with out arguments and with out return values\n",
    "        \n",
    "       * 1.function definition -> def function_name(arguments_list):\n",
    "       * 2.function calling-> function_name(variable_names/values)"
   ]
  },
  {
   "cell_type": "markdown",
   "id": "a8a73067",
   "metadata": {},
   "source": [
    "### 1) with arguments and with return values..\n",
    "    - syntax:\n",
    "                def function_name(arguments_list):\n",
    "                    statements\n",
    "                    return values"
   ]
  },
  {
   "cell_type": "code",
   "execution_count": 15,
   "id": "599e15e6",
   "metadata": {},
   "outputs": [
    {
     "name": "stdout",
     "output_type": "stream",
     "text": [
      "Enter n1 value!..12\n",
      "Enter n2 value!..34\n"
     ]
    },
    {
     "data": {
      "text/plain": [
       "46"
      ]
     },
     "execution_count": 15,
     "metadata": {},
     "output_type": "execute_result"
    }
   ],
   "source": [
    "# To perform the addition of two numbers?\n",
    "n1 = int(input(\"Enter n1 value!..\"))\n",
    "n2 = int(input(\"Enter n2 value!..\")) # step => 1\n",
    "def addition(a,b):# function defintion # step 3 a=12,b=34\n",
    "    c = a+b\n",
    "    return c\n",
    "addition(n1,n2)# function calling # step 2 "
   ]
  },
  {
   "cell_type": "markdown",
   "id": "4984e48b",
   "metadata": {},
   "source": [
    "#### 2) with arguments and with out return value..\n",
    "        - syntax:\n",
    "                    def function_name(arguments_list):\n",
    "                        statements\n",
    "                        printing the value"
   ]
  },
  {
   "cell_type": "code",
   "execution_count": 16,
   "id": "09f6160a",
   "metadata": {},
   "outputs": [
    {
     "name": "stdout",
     "output_type": "stream",
     "text": [
      "ENter n1 value!..23\n",
      "ENter n2 value!..10\n",
      "230\n"
     ]
    }
   ],
   "source": [
    "#To perform the multiplication of two numbers..\n",
    "def multiplication(n1,n2):\n",
    "    print(n1*n2)\n",
    "n1 = int(input(\"ENter n1 value!..\"))\n",
    "n2 = int(input(\"ENter n2 value!..\"))\n",
    "multiplication(n1,n2)"
   ]
  },
  {
   "cell_type": "markdown",
   "id": "4da5d349",
   "metadata": {},
   "source": [
    "### 3) with out arguments and with return values..\n",
    "       - syntax:\n",
    "                   def function_name():\n",
    "                       statements\n",
    "                       return value"
   ]
  },
  {
   "cell_type": "code",
   "execution_count": 17,
   "id": "15d97048",
   "metadata": {},
   "outputs": [
    {
     "name": "stdout",
     "output_type": "stream",
     "text": [
      "Enter n value!..3\n"
     ]
    },
    {
     "data": {
      "text/plain": [
       "6"
      ]
     },
     "execution_count": 17,
     "metadata": {},
     "output_type": "execute_result"
    }
   ],
   "source": [
    "# To find the factorial of agiven number?\n",
    "n = int(input(\"Enter n value!..\"))\n",
    "# n=3! -> 1*2*3=> 6\n",
    "def factorial():\n",
    "    f1 = 1\n",
    "    for i in range(1,n+1):\n",
    "        f1 = f1*i\n",
    "    return f1\n",
    "factorial()"
   ]
  },
  {
   "cell_type": "markdown",
   "id": "8b61e664",
   "metadata": {},
   "source": [
    "### 4) with out arguments and with out return values..\n",
    "    - syntax:\n",
    "                def function_name():\n",
    "                    statements\n",
    "                    printing value"
   ]
  },
  {
   "cell_type": "code",
   "execution_count": 18,
   "id": "70047d6f",
   "metadata": {},
   "outputs": [
    {
     "name": "stdout",
     "output_type": "stream",
     "text": [
      "Enter a value!..12\n",
      "Enter b value!..2\n",
      "10\n"
     ]
    }
   ],
   "source": [
    "# To perform the subtraction of two numbers?\n",
    "a = int(input(\"Enter a value!..\"))\n",
    "b = int(input(\"Enter b value!..\"))\n",
    "def sub():\n",
    "    print(a-b)\n",
    "sub()"
   ]
  },
  {
   "cell_type": "code",
   "execution_count": 19,
   "id": "10642b02",
   "metadata": {},
   "outputs": [
    {
     "name": "stdout",
     "output_type": "stream",
     "text": [
      "Help on function addition in module __main__:\n",
      "\n",
      "addition(a, b)\n",
      "\n"
     ]
    }
   ],
   "source": [
    "help(addition)"
   ]
  },
  {
   "cell_type": "code",
   "execution_count": 20,
   "id": "e46d7da6",
   "metadata": {},
   "outputs": [
    {
     "name": "stdout",
     "output_type": "stream",
     "text": [
      "Help on function multiplication in module __main__:\n",
      "\n",
      "multiplication(n1, n2)\n",
      "    #To perform the multiplication of two numbers..\n",
      "\n"
     ]
    }
   ],
   "source": [
    "help(multiplication)"
   ]
  },
  {
   "cell_type": "code",
   "execution_count": 21,
   "id": "3d840b11",
   "metadata": {},
   "outputs": [
    {
     "name": "stdout",
     "output_type": "stream",
     "text": [
      "Help on function sub in module __main__:\n",
      "\n",
      "sub()\n",
      "\n"
     ]
    }
   ],
   "source": [
    "help(sub)"
   ]
  },
  {
   "cell_type": "code",
   "execution_count": 22,
   "id": "362d021f",
   "metadata": {},
   "outputs": [
    {
     "ename": "TypeError",
     "evalue": "addition() takes 2 positional arguments but 3 were given",
     "output_type": "error",
     "traceback": [
      "\u001b[1;31m---------------------------------------------------------------------------\u001b[0m",
      "\u001b[1;31mTypeError\u001b[0m                                 Traceback (most recent call last)",
      "\u001b[1;32m<ipython-input-22-1b56d3a1dffb>\u001b[0m in \u001b[0;36m<module>\u001b[1;34m\u001b[0m\n\u001b[1;32m----> 1\u001b[1;33m \u001b[0maddition\u001b[0m\u001b[1;33m(\u001b[0m\u001b[1;36m10\u001b[0m\u001b[1;33m,\u001b[0m\u001b[1;36m20\u001b[0m\u001b[1;33m,\u001b[0m\u001b[1;36m30\u001b[0m\u001b[1;33m)\u001b[0m\u001b[1;33m\u001b[0m\u001b[1;33m\u001b[0m\u001b[0m\n\u001b[0m",
      "\u001b[1;31mTypeError\u001b[0m: addition() takes 2 positional arguments but 3 were given"
     ]
    }
   ],
   "source": [
    "addition(10,20,30)"
   ]
  },
  {
   "cell_type": "code",
   "execution_count": null,
   "id": "68ba8517",
   "metadata": {},
   "outputs": [],
   "source": []
  }
 ],
 "metadata": {
  "kernelspec": {
   "display_name": "Python 3",
   "language": "python",
   "name": "python3"
  },
  "language_info": {
   "codemirror_mode": {
    "name": "ipython",
    "version": 3
   },
   "file_extension": ".py",
   "mimetype": "text/x-python",
   "name": "python",
   "nbconvert_exporter": "python",
   "pygments_lexer": "ipython3",
   "version": "3.8.8"
  }
 },
 "nbformat": 4,
 "nbformat_minor": 5
}
