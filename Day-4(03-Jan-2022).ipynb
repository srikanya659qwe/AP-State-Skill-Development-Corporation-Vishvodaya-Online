{
 "cells": [
  {
   "cell_type": "markdown",
   "id": "4d5470af",
   "metadata": {},
   "source": [
    "### Operators:"
   ]
  },
  {
   "cell_type": "markdown",
   "id": "5d24c115",
   "metadata": {},
   "source": [
    "### comparision operators:\n",
    "###  (==,<,<=,>,>=,!=)"
   ]
  },
  {
   "cell_type": "code",
   "execution_count": 9,
   "id": "6a5b3737",
   "metadata": {},
   "outputs": [
    {
     "name": "stdout",
     "output_type": "stream",
     "text": [
      "False\n",
      "True\n",
      "True\n",
      "False\n",
      "False\n",
      "True\n"
     ]
    }
   ],
   "source": [
    "a = 34\n",
    "b = 67\n",
    "print(a == b)\n",
    "print(a < b)\n",
    "print(a <= b)\n",
    "print(a > b)\n",
    "print(a >= b)\n",
    "print(a != b)"
   ]
  },
  {
   "cell_type": "markdown",
   "id": "e283455c",
   "metadata": {},
   "source": [
    "### Logical Operators:\n",
    "#### (and , or, not)"
   ]
  },
  {
   "cell_type": "code",
   "execution_count": 14,
   "id": "251ccb6d",
   "metadata": {},
   "outputs": [
    {
     "name": "stdout",
     "output_type": "stream",
     "text": [
      "True\n",
      "True\n",
      "False\n"
     ]
    }
   ],
   "source": [
    "p = 5\n",
    "print(p>4 and p>2 and p>1)\n",
    "#     5>4 and 5>2\n",
    "#     True    True -> True\n",
    "print(p<=5 or p>10)\n",
    "#     5>5 or 5>10\n",
    "#     T      F   -> True\n",
    "print(not(p>4 and p>2 and p>1))"
   ]
  },
  {
   "cell_type": "markdown",
   "id": "1718a661",
   "metadata": {},
   "source": [
    "### Identity operators:\n",
    "#### (is, is not)"
   ]
  },
  {
   "cell_type": "code",
   "execution_count": 20,
   "id": "2687701f",
   "metadata": {},
   "outputs": [
    {
     "name": "stdout",
     "output_type": "stream",
     "text": [
      "False\n",
      "True\n",
      "False\n",
      "True\n"
     ]
    }
   ],
   "source": [
    "s1 ='abc'\n",
    "s2 ='ab'\n",
    "print(s1 is s2)# similar to equal\n",
    "print(s1 is not s2) # similar to not equal\n",
    "n = 20\n",
    "m = 34\n",
    "print(n is m)\n",
    "print(n is not m)"
   ]
  },
  {
   "cell_type": "markdown",
   "id": "62d2fe58",
   "metadata": {},
   "source": [
    "### membership operators:\n",
    "#### (in , not in)"
   ]
  },
  {
   "cell_type": "code",
   "execution_count": 26,
   "id": "99eb9442",
   "metadata": {},
   "outputs": [
    {
     "name": "stdout",
     "output_type": "stream",
     "text": [
      "True\n",
      "False\n",
      "True\n",
      "True\n",
      "False\n",
      "True\n"
     ]
    }
   ],
   "source": [
    "s1 = \"python programming\"\n",
    "print('y' in s1)\n",
    "print('g' not in s1)\n",
    "print('z' not in s1)\n",
    "\n",
    "L1 = [10,20,30,40]\n",
    "print(10 in L1)\n",
    "print(10 not in L1)\n",
    "print(100 not in L1)"
   ]
  },
  {
   "cell_type": "markdown",
   "id": "7188517c",
   "metadata": {},
   "source": [
    "### Bitwise operators:\n",
    "### (&(and),|(or),^(x-or),~(negation),<<(left shift),>>(right shift))"
   ]
  },
  {
   "cell_type": "code",
   "execution_count": 30,
   "id": "8d783284",
   "metadata": {},
   "outputs": [
    {
     "name": "stdout",
     "output_type": "stream",
     "text": [
      "5\n"
     ]
    }
   ],
   "source": [
    "a = 13\n",
    "b = 5\n",
    "print(a & b)"
   ]
  },
  {
   "cell_type": "code",
   "execution_count": null,
   "id": "75fdf0ae",
   "metadata": {},
   "outputs": [],
   "source": [
    "2^0 2^1 2^2 2^3....\n",
    "8 4 2 1\n",
    "\n",
    "1 1 0 1->13\n",
    "0 1 0 1->5\n",
    "-------\n",
    "0 1 0 1\n",
    "\n",
    "a = 13 -> 1101\n",
    "b = 5 ->  0101\n",
    "a & b\n"
   ]
  },
  {
   "cell_type": "code",
   "execution_count": 31,
   "id": "c248f06a",
   "metadata": {},
   "outputs": [
    {
     "name": "stdout",
     "output_type": "stream",
     "text": [
      "8\n"
     ]
    }
   ],
   "source": [
    "a = 10\n",
    "b = 13\n",
    "print(a & b)"
   ]
  },
  {
   "cell_type": "code",
   "execution_count": 32,
   "id": "dde06a01",
   "metadata": {},
   "outputs": [
    {
     "name": "stdout",
     "output_type": "stream",
     "text": [
      "14\n"
     ]
    }
   ],
   "source": [
    "p = 14\n",
    "q = 10\n",
    "print( p | q)"
   ]
  },
  {
   "cell_type": "code",
   "execution_count": 33,
   "id": "0e485c55",
   "metadata": {},
   "outputs": [
    {
     "name": "stdout",
     "output_type": "stream",
     "text": [
      "4\n"
     ]
    }
   ],
   "source": [
    "print(p ^ q)"
   ]
  },
  {
   "cell_type": "code",
   "execution_count": 35,
   "id": "5552d0c7",
   "metadata": {},
   "outputs": [
    {
     "name": "stdout",
     "output_type": "stream",
     "text": [
      "-15\n"
     ]
    }
   ],
   "source": [
    "print(~p)\n",
    "# 8421\n",
    "# 1111\n",
    "\n"
   ]
  },
  {
   "cell_type": "code",
   "execution_count": 36,
   "id": "44533d80",
   "metadata": {},
   "outputs": [
    {
     "name": "stdout",
     "output_type": "stream",
     "text": [
      "-11\n"
     ]
    }
   ],
   "source": [
    "n = 10\n",
    "print(~n)\n",
    "# 1 0 1 0\n",
    "        1\n",
    "===========\n",
    " 1 0 1 1\n",
    " 8 4 2 1"
   ]
  },
  {
   "cell_type": "code",
   "execution_count": 43,
   "id": "5ea2d12a",
   "metadata": {},
   "outputs": [
    {
     "name": "stdout",
     "output_type": "stream",
     "text": [
      "8\n",
      "2\n"
     ]
    }
   ],
   "source": [
    "#32 16 8 4 2 1\n",
    "#0  0  0 1 0 0\n",
    "#0  1  0 0 0 0\n",
    "a = 4\n",
    "print(a<<1) # left shift\n",
    "print(a>>1) # right shift"
   ]
  },
  {
   "cell_type": "markdown",
   "id": "23c781c5",
   "metadata": {},
   "source": [
    "### control statements:\n",
    "            - To control the flow of execution of program..\n",
    "            - Three types of control statements.\n",
    "                - 1. conditional statements\n",
    "                - 2. looping/ iterative statements\n",
    "                - 3. jumping statements"
   ]
  },
  {
   "cell_type": "markdown",
   "id": "b04d3c7d",
   "metadata": {},
   "source": [
    "#### 1. Conditional statements\n",
    "        - TO check the condition.\n",
    "        - 1) if statement:\n",
    "            - syntax:\n",
    "                     if(condition):(logical and comparision operators)\n",
    "                         statements"
   ]
  },
  {
   "cell_type": "code",
   "execution_count": 53,
   "id": "8e7517cc",
   "metadata": {},
   "outputs": [
    {
     "name": "stdout",
     "output_type": "stream",
     "text": [
      "ENter number!..-34\n"
     ]
    }
   ],
   "source": [
    "# To check the given number is positive number?\n",
    "n = int(input(\"ENter number!..\"))\n",
    "if(n>0):\n",
    "    print(n,'is positive number!...')\n",
    "    print(\"hello everyone!..\")"
   ]
  },
  {
   "cell_type": "markdown",
   "id": "f56406e6",
   "metadata": {},
   "source": [
    "### 2. if-else:\n",
    "        - syntax:\n",
    "                 if(condition):\n",
    "                     statements\n",
    "                 else:\n",
    "                     statements"
   ]
  },
  {
   "cell_type": "code",
   "execution_count": 55,
   "id": "f5736a31",
   "metadata": {},
   "outputs": [
    {
     "name": "stdout",
     "output_type": "stream",
     "text": [
      "Enter n value!...78\n",
      "78 is a positive number\n"
     ]
    }
   ],
   "source": [
    "# To check the given number is positive number or negative number?\n",
    "n = int(input(\"Enter n value!...\"))\n",
    "if(n>0):\n",
    "    print(n,\"is a positive number\")\n",
    "else:\n",
    "    print(n,\"is a negative number\")"
   ]
  },
  {
   "cell_type": "code",
   "execution_count": 57,
   "id": "10267a8e",
   "metadata": {},
   "outputs": [
    {
     "name": "stdout",
     "output_type": "stream",
     "text": [
      "Enter character!...t\n",
      "t is a consonant\n"
     ]
    }
   ],
   "source": [
    "# To check the given character is vowel or consonant?\n",
    "# a,e,i,o,u\n",
    "ch = input(\"Enter character!...\")\n",
    "if(ch == 'a' or ch == 'e' or ch=='i' or ch=='o' or ch=='u'):\n",
    "    print(ch ,'is a vowel')\n",
    "else:\n",
    "    print(ch, 'is a consonant')"
   ]
  },
  {
   "cell_type": "code",
   "execution_count": 59,
   "id": "bc957d62",
   "metadata": {},
   "outputs": [
    {
     "name": "stdout",
     "output_type": "stream",
     "text": [
      "Enter number68\n",
      "It is a even number\n"
     ]
    }
   ],
   "source": [
    "# To check the given number is even or not?\n",
    "m = int(input(\"Enter number\"))\n",
    "if(m%2==0):\n",
    "    print(\"It is a even number\")\n",
    "else:\n",
    "    print(\"it is not a even number\")\n",
    "    "
   ]
  },
  {
   "cell_type": "code",
   "execution_count": null,
   "id": "e4b09005",
   "metadata": {},
   "outputs": [],
   "source": [
    "# task1: To find the biggest of two numbers?\n",
    "# task2: To check the given age is eligible for vote or not?\n",
    "# task3: read a number it is divisible by 3 and 15?"
   ]
  },
  {
   "cell_type": "markdown",
   "id": "ffcef69d",
   "metadata": {},
   "source": [
    "### else-if:\n",
    "           - syntax:\n",
    "                   if(condition):\n",
    "                       statements\n",
    "                   elif(condition):\n",
    "                       statements\n",
    "                   elif(condition):\n",
    "                       statements\n",
    "                   else:\n",
    "                       statements"
   ]
  },
  {
   "cell_type": "code",
   "execution_count": 62,
   "id": "e9c30d06",
   "metadata": {},
   "outputs": [
    {
     "name": "stdout",
     "output_type": "stream",
     "text": [
      "Enter a value!..10\n",
      "Enter b value!..10\n",
      "Enter c value!...10\n",
      "Three numbers are equal!...\n"
     ]
    }
   ],
   "source": [
    "#To find the biggest of three numbers?\n",
    "a = int(input(\"Enter a value!..\"))\n",
    "b = int(input(\"Enter b value!..\"))\n",
    "c = int(input(\"Enter c value!...\"))\n",
    "if(a==b and b==c):\n",
    "    print(\"Three numbers are equal!...\")\n",
    "elif(a>b and a>c):\n",
    "    print(\"a is greater than b and c\")\n",
    "elif(b>c):\n",
    "    print(\"b is greater than a and c\")\n",
    "else:\n",
    "    print(\"c is greater than a and b\")\n",
    "    "
   ]
  },
  {
   "cell_type": "code",
   "execution_count": null,
   "id": "20113254",
   "metadata": {},
   "outputs": [],
   "source": [
    "# elif:\n",
    "# task1: To print the weekdays names?\n",
    "# 1 -> sunday\n",
    "# task2: read a student marks To print the studet grading system?\n",
    "# 100 to 70 -> A grade\n",
    "# 70 to 55 -> B grade\n",
    "# 55 to 35 -> C grade\n",
    "# 34 to 0 -> Fail"
   ]
  }
 ],
 "metadata": {
  "kernelspec": {
   "display_name": "Python 3",
   "language": "python",
   "name": "python3"
  },
  "language_info": {
   "codemirror_mode": {
    "name": "ipython",
    "version": 3
   },
   "file_extension": ".py",
   "mimetype": "text/x-python",
   "name": "python",
   "nbconvert_exporter": "python",
   "pygments_lexer": "ipython3",
   "version": "3.8.8"
  }
 },
 "nbformat": 4,
 "nbformat_minor": 5
}
