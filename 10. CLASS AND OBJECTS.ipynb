{
 "cells": [
  {
   "cell_type": "markdown",
   "metadata": {},
   "source": [
    "#### a. Write a program to create a BankAccount class. Your class should support the following methods for\n",
    "    -i)Deposit\n",
    "    -ii)Withdraw\n",
    "    -iii)GetBalanace\n",
    "    -iv)PinChange"
   ]
  },
  {
   "cell_type": "code",
   "execution_count": 9,
   "metadata": {},
   "outputs": [
    {
     "name": "stdout",
     "output_type": "stream",
     "text": [
      "you had deposited +230 to your account\n",
      "your Main  balance is:230\n",
      "Withdrawl is:- 100\n",
      "your Main  balance is:130\n",
      "You can change your pin\n",
      "Enter your new pin456\n",
      "your pin had been changed successfully...\n"
     ]
    }
   ],
   "source": [
    "class BankAccount:\n",
    "    def __init__(self):\n",
    "        self.amount=0\n",
    "        self.pin=123\n",
    "    def deposit(self,dep):\n",
    "        self.amount+=dep\n",
    "        print(\"you had deposited +{} to your account\".format(self.amount))\n",
    "    def withdrawl(self,wt):\n",
    "        if wt > self.amount:\n",
    "            print(\"Insuffiecient balance in your account\")\n",
    "        else:\n",
    "            self.amount-=wt  # self.amount=self.amount-wt\n",
    "            print(\"Withdrawl is:- {}\".format(wt))\n",
    "    def getbalance(self):\n",
    "        print(\"your Main  balance is:{}\".format(self.amount))\n",
    "    \n",
    "    def pinchange(self,cg):\n",
    "        if self.pin==cg:\n",
    "            print(\"You can change your pin\")\n",
    "            cge=int(input(\"Enter your new pin\"))\n",
    "            self.pin=cge\n",
    "            print(\"your pin had been changed successfully...\")\n",
    "        else:\n",
    "            print(\"you had entered wrong pin\")\n",
    "            \n",
    "g=BankAccount()\n",
    "g.deposit(230)\n",
    "g.getbalance()\n",
    "g.withdrawl(100)\n",
    "g.getbalance()\n",
    "g.pinchange(123)\n",
    "        "
   ]
  },
  {
   "cell_type": "code",
   "execution_count": null,
   "metadata": {},
   "outputs": [],
   "source": []
  },
  {
   "cell_type": "markdown",
   "metadata": {},
   "source": [
    "#### b. Create a SavingsAccount class that behaves just like a BankAccount, but also has an interest rate and a method that increases the balance by the appropriate amount of interest (Hint:use Inheritance)."
   ]
  },
  {
   "cell_type": "code",
   "execution_count": null,
   "metadata": {},
   "outputs": [],
   "source": []
  },
  {
   "cell_type": "markdown",
   "metadata": {},
   "source": [
    "#### c. Write a program to create an employee class and store the employee name, id, age, and salary using the constructor. Display the employee details by invoking employee_info() method and also using dictionary ( dict )."
   ]
  },
  {
   "cell_type": "code",
   "execution_count": 13,
   "metadata": {},
   "outputs": [
    {
     "name": "stdout",
     "output_type": "stream",
     "text": [
      "{'name': 'srikanya', 'age': 22, 'id': 130659, 'salary': 25000}\n",
      "{'name': 'nandini', 'age': 22, 'id': 130677, 'salary': 24000}\n",
      "{'name': 'ruthu', 'age': 22, 'id': 130556, 'salary': 23000}\n",
      "{'name': 'sirisha', 'age': 22, 'id': 130543, 'salary': 21000}\n"
     ]
    }
   ],
   "source": [
    "class Employee:\n",
    "    def __init__(self,name,age,id,salary):\n",
    "        self.name=name\n",
    "        self.age=age\n",
    "        self.id=id\n",
    "        self.salary=salary\n",
    "emp1=Employee(\"srikanya\",22,130659,25000)\n",
    "emp2=Employee(\"nandini\",22,130677,24000)\n",
    "emp3=Employee(\"ruthu\",22,130556,23000)\n",
    "emp4=Employee(\"sirisha\",22,130543,21000)\n",
    "print(emp1.__dict__)\n",
    "print(emp2.__dict__)\n",
    "print(emp3.__dict__)\n",
    "print(emp4.__dict__)"
   ]
  },
  {
   "cell_type": "markdown",
   "metadata": {},
   "source": [
    "#### d. Access modifiers in Python are used to modify the default scope of variables. Write a program to demonstrate the 3 types of access modifiers: public, private and protected.\n",
    "    - public:public access modifiers can be accessed anywhere inside or outside.\n",
    "    - private:the varlables can be only accessed inside the class(__)(double undersccore)\n",
    "    - protected:variables can be accessed within the same package.(_)(single underscore)\n",
    "\n"
   ]
  },
  {
   "cell_type": "code",
   "execution_count": 22,
   "metadata": {},
   "outputs": [
    {
     "name": "stdout",
     "output_type": "stream",
     "text": [
      "welcome to APSSDC\n",
      "here siri is working on Multiskill training program\n",
      "the salary of siri is 25000\n",
      "the company name is: APSSDC\n"
     ]
    }
   ],
   "source": [
    "class Company:\n",
    "    def __init__(self,name,proj):\n",
    "        self.name=name   #public access modifier\n",
    "        self._proj=proj  # protected access modifier\n",
    "    def show(self):\n",
    "        print(\"the company name is:\",\"APSSDC\")\n",
    "\n",
    "class Emp(Company):\n",
    "    def __init__(self,ename,sal,cname,proj):\n",
    "        Company.__init__(self,cname,proj)\n",
    "        self.name=ename\n",
    "        self.__sal=sal\n",
    "    def show_sal(self):\n",
    "        print(\"the salary of\",self.name,\"is\",self.__sal)\n",
    "        \n",
    "c=Company(\"APSSDC\",\"Multiskill training program\")\n",
    "e=Emp(\"siri\",25000,c.name,c._proj)\n",
    "# print(e)\n",
    "print(\"welcome to\",c.name)\n",
    "print(\"here\",e.name,\"is working on\",e._proj)\n",
    "e.show_sal()\n",
    "c.show()"
   ]
  },
  {
   "cell_type": "code",
   "execution_count": null,
   "metadata": {},
   "outputs": [],
   "source": []
  }
 ],
 "metadata": {
  "kernelspec": {
   "display_name": "Python 3",
   "language": "python",
   "name": "python3"
  },
  "language_info": {
   "codemirror_mode": {
    "name": "ipython",
    "version": 3
   },
   "file_extension": ".py",
   "mimetype": "text/x-python",
   "name": "python",
   "nbconvert_exporter": "python",
   "pygments_lexer": "ipython3",
   "version": "3.7.3"
  }
 },
 "nbformat": 4,
 "nbformat_minor": 2
}
