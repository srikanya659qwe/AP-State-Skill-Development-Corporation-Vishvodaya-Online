{
 "cells": [
  {
   "cell_type": "markdown",
   "metadata": {},
   "source": [
    "### a.A generator is a function that produces a sequence of results instead of a single value. Write a generator function for Fibonacci numbers up to n."
   ]
  },
  {
   "cell_type": "markdown",
   "metadata": {},
   "source": [
    "### fibonacci series-0,1,1,2,3,5,8,13,21,34\n",
    "    - generator-it is work as like a function\n",
    "    - return(function)\n",
    "    - yield(generator)"
   ]
  },
  {
   "cell_type": "code",
   "execution_count": 3,
   "metadata": {},
   "outputs": [
    {
     "name": "stdout",
     "output_type": "stream",
     "text": [
      "Enter N value here10\n",
      "[0, 1, 1, 2, 3, 5, 8, 13, 21, 34]\n"
     ]
    }
   ],
   "source": [
    "n=int(input(\"Enter N value here\"))\n",
    "def fib(n):\n",
    "    a,b=0,1\n",
    "    for i in range(n):\n",
    "        yield a\n",
    "        a,b=b,a+b\n",
    "    \n",
    "print(list(fib(n)))"
   ]
  },
  {
   "cell_type": "markdown",
   "metadata": {},
   "source": [
    "### b.Write a function merge_dict(dict1, dict2) to merge two Python dictionaries.\n",
    "### d1={},d2={}\n",
    "### {d1+d2}"
   ]
  },
  {
   "cell_type": "code",
   "execution_count": 7,
   "metadata": {},
   "outputs": [
    {
     "name": "stdout",
     "output_type": "stream",
     "text": [
      "{'a': 89, 'b': 78, 'd': 100, 'c': 56}\n"
     ]
    }
   ],
   "source": [
    "def merge_dict(dict1, dict2):\n",
    "    return (dict1.update(dict2))\n",
    "    \n",
    "dict1={'a':89,'b':78}\n",
    "dict2={'d':100,'c':56}\n",
    "    \n",
    "merge_dict(dict1, dict2)\n",
    "print(dict1)"
   ]
  },
  {
   "cell_type": "code",
   "execution_count": 4,
   "metadata": {
    "collapsed": true
   },
   "outputs": [
    {
     "name": "stdout",
     "output_type": "stream",
     "text": [
      "['__class__', '__contains__', '__delattr__', '__delitem__', '__dir__', '__doc__', '__eq__', '__format__', '__ge__', '__getattribute__', '__getitem__', '__gt__', '__hash__', '__init__', '__init_subclass__', '__iter__', '__le__', '__len__', '__lt__', '__ne__', '__new__', '__reduce__', '__reduce_ex__', '__repr__', '__setattr__', '__setitem__', '__sizeof__', '__str__', '__subclasshook__', 'clear', 'copy', 'fromkeys', 'get', 'items', 'keys', 'pop', 'popitem', 'setdefault', 'update', 'values']\n"
     ]
    }
   ],
   "source": [
    "print(dir(dict))"
   ]
  },
  {
   "cell_type": "markdown",
   "metadata": {},
   "source": [
    "### c.Write a fact() function to compute the factorial of a given positive number."
   ]
  },
  {
   "cell_type": "code",
   "execution_count": 11,
   "metadata": {},
   "outputs": [
    {
     "name": "stdout",
     "output_type": "stream",
     "text": [
      "factorial of gven number is: 6\n"
     ]
    },
    {
     "data": {
      "text/plain": [
       "720"
      ]
     },
     "execution_count": 11,
     "metadata": {},
     "output_type": "execute_result"
    }
   ],
   "source": [
    "def fact(n):\n",
    "    return 1 if(n==1 or n==0) else n*fact(n-1)\n",
    "num=6  \n",
    "print(\"factorial of gven number is:\",num)\n",
    "fact(num)"
   ]
  },
  {
   "cell_type": "code",
   "execution_count": null,
   "metadata": {},
   "outputs": [],
   "source": [
    "### 6*fact(6-1)--->6*5,6*5*fact(5-1)--->6*5*4,4*fact(4-1)--->6*5*4*3,3*fact(3-1)---6*5*4*3*2,2*fact(2-1)\n",
    "#### 6*5*4*3*2*1=720"
   ]
  },
  {
   "cell_type": "code",
   "execution_count": 18,
   "metadata": {},
   "outputs": [
    {
     "name": "stdout",
     "output_type": "stream",
     "text": [
      "Enter a number6\n",
      "the factorial of  6 is 1\n",
      "the factorial of  6 is 2\n",
      "the factorial of  6 is 6\n",
      "the factorial of  6 is 24\n",
      "the factorial of  6 is 120\n",
      "the factorial of  6 is 720\n"
     ]
    }
   ],
   "source": [
    "num=int(input(\"Enter a number\"))\n",
    "def fact(num):\n",
    "    f=1\n",
    "    if num<0:\n",
    "        print(\"factorial does not exist for -ve numbers\")\n",
    "    elif num==0:\n",
    "        print(\"the factorial of 0 is 1\")\n",
    "    else:\n",
    "        for i in range(1,num+1):###(1,6+1)(1,2,3,4,5,6,7)\n",
    "            f=f*i   #f=1*1,f=1,f=1*2=2,f=2,f=2*3=6,f=6*4=24,f=24*5=120,f=120*6=720\n",
    "            print(\"the factorial of \",num,\"is\",f)\n",
    "fact(num)"
   ]
  },
  {
   "cell_type": "markdown",
   "metadata": {},
   "source": [
    "### d.Given a list of n elements, write a linear_search() function to search a given element x in a list."
   ]
  },
  {
   "cell_type": "code",
   "execution_count": null,
   "metadata": {},
   "outputs": [],
   "source": [
    "l=[67,90,45,34,23,12]\n",
    "x=search?--45"
   ]
  },
  {
   "cell_type": "code",
   "execution_count": 21,
   "metadata": {},
   "outputs": [
    {
     "name": "stdout",
     "output_type": "stream",
     "text": [
      "enter searching element...78\n",
      "78 is not found\n"
     ]
    }
   ],
   "source": [
    "n=[10,20,30,40,50]\n",
    "ele=int(input(\"enter searching element...\"))\n",
    "def linear_search(n):\n",
    "    key=0\n",
    "    for i in n:\n",
    "        if i==ele:\n",
    "            key=1\n",
    "            break\n",
    "    if key==1:\n",
    "        print(ele,\"is located at location in\",n.index(ele))\n",
    "    else:\n",
    "        print(ele,\"is not found\")\n",
    "linear_search(n)"
   ]
  },
  {
   "cell_type": "code",
   "execution_count": null,
   "metadata": {},
   "outputs": [],
   "source": []
  }
 ],
 "metadata": {
  "kernelspec": {
   "display_name": "Python 3",
   "language": "python",
   "name": "python3"
  },
  "language_info": {
   "codemirror_mode": {
    "name": "ipython",
    "version": 3
   },
   "file_extension": ".py",
   "mimetype": "text/x-python",
   "name": "python",
   "nbconvert_exporter": "python",
   "pygments_lexer": "ipython3",
   "version": "3.7.3"
  }
 },
 "nbformat": 4,
 "nbformat_minor": 2
}
