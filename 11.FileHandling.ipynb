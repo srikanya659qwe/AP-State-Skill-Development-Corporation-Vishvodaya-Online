{
 "cells": [
  {
   "cell_type": "code",
   "execution_count": null,
   "metadata": {},
   "outputs": [],
   "source": [
    "### problem solving on files:"
   ]
  },
  {
   "cell_type": "markdown",
   "metadata": {},
   "source": [
    "#### to read a filename and if it is existed it will \"YES\" otherwise the file will be created respected folder"
   ]
  },
  {
   "cell_type": "code",
   "execution_count": 3,
   "metadata": {},
   "outputs": [
    {
     "name": "stdout",
     "output_type": "stream",
     "text": [
      "False\n"
     ]
    }
   ],
   "source": [
    "import os.path\n",
    "f1=os.path.exists('Files/file1.txt')\n",
    "print(f1)"
   ]
  },
  {
   "cell_type": "code",
   "execution_count": 6,
   "metadata": {},
   "outputs": [
    {
     "name": "stdout",
     "output_type": "stream",
     "text": [
      "Enter filename here...Files/file1.txt\n",
      "No...create it\n",
      "Files/file1.txt is created succssfully\n"
     ]
    }
   ],
   "source": [
    "fn=input(\"Enter filename here...\")\n",
    "if os.path.exists(fn):\n",
    "    print(\"YES\")\n",
    "else:\n",
    "    print(\"No...create it\")\n",
    "    f2=open(fn,'w')\n",
    "    print(fn,\"is created succssfully\")\n"
   ]
  },
  {
   "cell_type": "code",
   "execution_count": 6,
   "metadata": {},
   "outputs": [
    {
     "name": "stdout",
     "output_type": "stream",
     "text": [
      "7\n",
      "7\n"
     ]
    }
   ],
   "source": [
    "s=\" python\"\n",
    "print(len(s))\n",
    "print(len(s.strip(\"\\n\")))"
   ]
  },
  {
   "cell_type": "code",
   "execution_count": 10,
   "metadata": {},
   "outputs": [
    {
     "name": "stdout",
     "output_type": "stream",
     "text": [
      "177\n"
     ]
    }
   ],
   "source": [
    "## to print no of characters in given file\n",
    "with open('Files/file.txt','r') as r1:\n",
    "    print(len(r1.read()))"
   ]
  },
  {
   "cell_type": "code",
   "execution_count": 11,
   "metadata": {},
   "outputs": [
    {
     "name": "stdout",
     "output_type": "stream",
     "text": [
      "18\n"
     ]
    }
   ],
   "source": [
    "with open('Files/file.txt','a') as r1:\n",
    "    g=r1.write(\"Python Programming\")\n",
    "    print(g)"
   ]
  },
  {
   "cell_type": "code",
   "execution_count": 14,
   "metadata": {},
   "outputs": [
    {
     "name": "stdout",
     "output_type": "stream",
     "text": [
      "P P "
     ]
    }
   ],
   "source": [
    "#### to print the only uppercase letters from file\n",
    "with open('Files/file.txt','r') as r3:\n",
    "    d2=r3.read()\n",
    "#     print(type(d2))\n",
    "    for i in d2:\n",
    "        if i.isupper():\n",
    "            print(i,end=\" \")"
   ]
  },
  {
   "cell_type": "markdown",
   "metadata": {},
   "source": [
    "#### a. Write a program to read a filename from the user, open the file (say firstFile.txt) and then perform the following operations:\n",
    "    - i.Count the sentences in the file.\n",
    "    - ii.Count the words in the file.\n",
    "    - iii.Count the characters in the file."
   ]
  },
  {
   "cell_type": "code",
   "execution_count": 23,
   "metadata": {},
   "outputs": [
    {
     "name": "stdout",
     "output_type": "stream",
     "text": [
      "no of sentenses in file is: 1\n",
      "no of words in file is: 6\n",
      "no of characters in file is: 34\n"
     ]
    }
   ],
   "source": [
    "file=open('Files/firstfile.txt','r')\n",
    "lines=0\n",
    "words=0\n",
    "chars=0\n",
    "for line in file:\n",
    "    line=line.strip(\"\\n\")\n",
    "#     print(line)\n",
    "    lines+=1\n",
    "    word=line.split()\n",
    "    words+=len(word)\n",
    "    chars+=len(line)\n",
    "print(\"no of sentenses in file is:\",lines)\n",
    "print(\"no of words in file is:\",words)\n",
    "print(\"no of characters in file is:\",chars)\n",
    "\n",
    "file.close()\n",
    "    \n",
    "    "
   ]
  },
  {
   "cell_type": "markdown",
   "metadata": {},
   "source": [
    "#### b.Create a new file (Hello.txt) and copy the text to other file called target.txt. The target.txt file should store only lower case alphabets and display the number of lines copied.\n"
   ]
  },
  {
   "cell_type": "code",
   "execution_count": 9,
   "metadata": {
    "collapsed": true
   },
   "outputs": [
    {
     "name": "stdout",
     "output_type": "stream",
     "text": [
      "line1\n",
      "\n",
      "line2\n",
      "\n",
      "line3\n",
      "\n",
      "3\n"
     ]
    }
   ],
   "source": [
    "f=open('Files/hello.txt','r')\n",
    "s=open('Files/target.txt','w')\n",
    "d=f.readlines()\n",
    "lines=0\n",
    "for i in d:\n",
    "    s.write(i)\n",
    "    if i.islower():\n",
    "        print(i)\n",
    "        i=i.strip(\"\\n\")\n",
    "        lines+=1\n",
    "print(lines)\n",
    "f.close()\n",
    "s.close()"
   ]
  },
  {
   "cell_type": "markdown",
   "metadata": {},
   "source": [
    "### c.Write a Python program to store N student‟s records containing name, roll number and branch. Print the given branch student‟s details only."
   ]
  },
  {
   "cell_type": "code",
   "execution_count": 13,
   "metadata": {},
   "outputs": [
    {
     "name": "stdout",
     "output_type": "stream",
     "text": [
      "['siri 130 CSE\\n', 'vani 140 EEE\\n', 'jaya 120 MECH\\n', 'rutu 180 ECE\\n', 'rama 110 CIVIL']\n",
      "['CSE\\n', 'EEE\\n', 'MECH\\n', 'ECE\\n', 'CIVIL']\n"
     ]
    }
   ],
   "source": [
    "f=open(\"Files/data.txt\",\"r\")\n",
    "lines=f.readlines()\n",
    "print(lines)\n",
    "result=[]\n",
    "for i in lines:\n",
    "    result.append(i.split(' ')[2])\n",
    "print(result)\n",
    "\n",
    "f.close()"
   ]
  },
  {
   "cell_type": "code",
   "execution_count": null,
   "metadata": {},
   "outputs": [],
   "source": []
  }
 ],
 "metadata": {
  "kernelspec": {
   "display_name": "Python 3",
   "language": "python",
   "name": "python3"
  },
  "language_info": {
   "codemirror_mode": {
    "name": "ipython",
    "version": 3
   },
   "file_extension": ".py",
   "mimetype": "text/x-python",
   "name": "python",
   "nbconvert_exporter": "python",
   "pygments_lexer": "ipython3",
   "version": "3.7.3"
  }
 },
 "nbformat": 4,
 "nbformat_minor": 2
}
