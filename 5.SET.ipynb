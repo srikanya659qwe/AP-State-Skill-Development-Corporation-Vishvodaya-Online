{
 "cells": [
  {
   "cell_type": "markdown",
   "id": "800904e8",
   "metadata": {},
   "source": [
    "### a.\tWrite a program to generate and print a dictionary that contains a number (between 1 and n) in the form (x, x*x)."
   ]
  },
  {
   "cell_type": "code",
   "execution_count": 1,
   "id": "6ba2a640",
   "metadata": {},
   "outputs": [
    {
     "name": "stdout",
     "output_type": "stream",
     "text": [
      "Emter n value!..10\n",
      "{1: 1, 2: 4, 3: 9, 4: 16, 5: 25, 6: 36, 7: 49, 8: 64, 9: 81, 10: 100}\n"
     ]
    }
   ],
   "source": [
    "n = int(input(\"Emter n value!..\"))\n",
    "d = {} # create one empty dictionary\n",
    "for i in range(1,n+1):\n",
    "    d[i] = i*i # assign the result to dictionary\n",
    "print(d)"
   ]
  },
  {
   "cell_type": "markdown",
   "id": "ce5271f4",
   "metadata": {},
   "source": [
    "### b.\tWrite a program to perform union, intersection and difference using Set A and Set B.\n",
    "\n",
    "#### union:  It returns a set that contains all items from both sets. duplicates are excluded."
   ]
  },
  {
   "cell_type": "code",
   "execution_count": 2,
   "id": "f9da9c4c",
   "metadata": {},
   "outputs": [
    {
     "data": {
      "text/plain": [
       "{10, 20, 30, 40, 56, 78}"
      ]
     },
     "execution_count": 2,
     "metadata": {},
     "output_type": "execute_result"
    }
   ],
   "source": [
    "a = {10,20,30,10,40}\n",
    "b = {10,20,56,78,20,10}\n",
    "res = a.union(b)\n",
    "res"
   ]
  },
  {
   "cell_type": "code",
   "execution_count": 3,
   "id": "340fb7cf",
   "metadata": {},
   "outputs": [
    {
     "data": {
      "text/plain": [
       "{'apple', 'banana', 'cherry', 'mango', 'tomato'}"
      ]
     },
     "execution_count": 3,
     "metadata": {},
     "output_type": "execute_result"
    }
   ],
   "source": [
    "x = {'apple','banana','mango'}\n",
    "y = {'cherry','apple','tomato'}\n",
    "res1 = x.union(y)\n",
    "res1"
   ]
  },
  {
   "cell_type": "markdown",
   "id": "969e3990",
   "metadata": {},
   "source": [
    "### intersection: It return a set that contains items that exist in both sets."
   ]
  },
  {
   "cell_type": "code",
   "execution_count": 6,
   "id": "db39738f",
   "metadata": {},
   "outputs": [
    {
     "data": {
      "text/plain": [
       "{10, 40, 50}"
      ]
     },
     "execution_count": 6,
     "metadata": {},
     "output_type": "execute_result"
    }
   ],
   "source": [
    "s1 = {10,20,30,40,50}\n",
    "s2 = {24,56,700,10,34,50,40}\n",
    "res2 = s1.intersection(s2)\n",
    "res2"
   ]
  },
  {
   "cell_type": "markdown",
   "id": "7afd58be",
   "metadata": {},
   "source": [
    "### difference() : It returns a set that contains the items that only exist in set 1 , and not in set 2.\n"
   ]
  },
  {
   "cell_type": "code",
   "execution_count": 9,
   "id": "b4440f20",
   "metadata": {},
   "outputs": [
    {
     "data": {
      "text/plain": [
       "{'banana', 'mango'}"
      ]
     },
     "execution_count": 9,
     "metadata": {},
     "output_type": "execute_result"
    }
   ],
   "source": [
    "s1 = {'apple','banana','mango'}\n",
    "s2 = {'tcs','wipro','apple','facebook'}\n",
    "res3 = s1.difference(s2)\n",
    "res3"
   ]
  },
  {
   "cell_type": "markdown",
   "id": "20880475",
   "metadata": {},
   "source": [
    "### c.\tWrite a program to count number of vowels using sets in given string (Input : “Hello World”, Output: No. of vowels : 3)"
   ]
  },
  {
   "cell_type": "code",
   "execution_count": 14,
   "id": "1944f5ae",
   "metadata": {},
   "outputs": [
    {
     "name": "stdout",
     "output_type": "stream",
     "text": [
      "Enter string!..APSSDC\n",
      "No. of vowels : 1\n"
     ]
    }
   ],
   "source": [
    "s1 = input(\"Enter string!..\")\n",
    "vowel = set(\"aeiouAEIOU\")\n",
    "count = 0\n",
    "for i in s1:\n",
    "    if i in vowel:\n",
    "        count = count+1\n",
    "print(\"No. of vowels :\",count)"
   ]
  },
  {
   "cell_type": "markdown",
   "id": "db7f4d7c",
   "metadata": {},
   "source": [
    "### d.\tWrite a program to form concatenated string by taking uncommon characters from two strings using set concept (Input : S1 = \"aacdb\", S2 = \"gafd\", Output : \"cbgf\")."
   ]
  },
  {
   "cell_type": "code",
   "execution_count": 8,
   "id": "6b24ca51",
   "metadata": {},
   "outputs": [
    {
     "name": "stdout",
     "output_type": "stream",
     "text": [
      "Enter s1 string: aacbd\n",
      "Enter s2 string: gafd\n",
      "{'a', 'd', 'b', 'c'}\n",
      "{'f', 'a', 'd', 'g'}\n",
      "common characters {'a', 'd'}\n",
      "uncomman characters:  ['c', 'b', 'g', 'f']\n",
      "cbgf\n"
     ]
    }
   ],
   "source": [
    "s1 = input(\"Enter s1 string: \")\n",
    "s2 = input(\"Enter s2 string: \")\n",
    "set1 = set(s1)\n",
    "set2 = set(s2)\n",
    "print(set1)\n",
    "print(set2)\n",
    "# to get the common characters using intesection\n",
    "res = set1 & set2\n",
    "print(\"common characters\",res)\n",
    "# to get the uncommon charcters\n",
    "k =[i for i in s1 if i not in res] + [i for i in s2 if i not in res]\n",
    "print(\"uncomman characters: \",k)\n",
    "print(''.join(k))"
   ]
  },
  {
   "cell_type": "code",
   "execution_count": null,
   "id": "2ec641b1",
   "metadata": {},
   "outputs": [],
   "source": []
  }
 ],
 "metadata": {
  "kernelspec": {
   "display_name": "Python 3",
   "language": "python",
   "name": "python3"
  },
  "language_info": {
   "codemirror_mode": {
    "name": "ipython",
    "version": 3
   },
   "file_extension": ".py",
   "mimetype": "text/x-python",
   "name": "python",
   "nbconvert_exporter": "python",
   "pygments_lexer": "ipython3",
   "version": "3.8.8"
  }
 },
 "nbformat": 4,
 "nbformat_minor": 5
}
