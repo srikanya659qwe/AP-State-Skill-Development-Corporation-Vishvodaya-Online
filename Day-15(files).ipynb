{
 "cells": [
  {
   "cell_type": "markdown",
   "metadata": {},
   "source": [
    "### File Handling in python\n",
    "    - A file is a named on desk to store relative information.\n",
    "    - file handling allows users to handle files.\n",
    "    - file formates(.txt,.csv,.excel,.py....)\n",
    "    \n",
    "##### Steps in File handling\n",
    "    - open a file\n",
    "        -open()- we use open() function in python to open a file in read or write mode.\n",
    "    - doing the operations\n",
    "           - read operation()\n",
    "           - write operation(),append\n",
    "        \n",
    "    - close a file\n",
    "        - close()\n",
    "        \n",
    "### open():\n",
    "    - open(p1,p2)\n",
    "        open(filename,mode)\n",
    "    - there are 3 kinds of modes to open a file\n",
    "            - read mode(\"r\")\n",
    "            - write mode(\"w\")\n",
    "            - append mode(\"a\")\n",
    "            \n",
    "#### modes:\n",
    "    - read mode(\"r\")-if you want read entire file we can use read mode.\n",
    "    - in file handling read mode is the default one\n",
    "    - write(\"w\")- if you want write any data in file we can use wite mode.\n",
    "    - append(\"a\")- \n",
    "\n",
    "   "
   ]
  },
  {
   "cell_type": "code",
   "execution_count": 2,
   "metadata": {},
   "outputs": [
    {
     "name": "stdout",
     "output_type": "stream",
     "text": [
      "line1\n",
      "line2\n",
      "line3\n",
      "line4\n"
     ]
    }
   ],
   "source": [
    "### read operation\n",
    "f=open('Files/file.txt','r')\n",
    "fh=f.read()\n",
    "print(fh)\n",
    "f.close()"
   ]
  },
  {
   "cell_type": "code",
   "execution_count": 3,
   "metadata": {},
   "outputs": [
    {
     "name": "stdout",
     "output_type": "stream",
     "text": [
      "line1\n",
      "line2\n",
      "line3\n",
      "line4\n"
     ]
    }
   ],
   "source": [
    "f=open('Files/file.txt')\n",
    "fh=f.read()\n",
    "print(fh)\n",
    "f.close()"
   ]
  },
  {
   "cell_type": "code",
   "execution_count": 6,
   "metadata": {},
   "outputs": [
    {
     "name": "stdout",
     "output_type": "stream",
     "text": [
      "52\n"
     ]
    }
   ],
   "source": [
    "### write operation(w):\n",
    "f=open('Files/file.txt','w')\n",
    "fh=f.write(\"Hai students welcome to python programming session \\n\")\n",
    "print(fh)\n",
    "f.close()"
   ]
  },
  {
   "cell_type": "code",
   "execution_count": 8,
   "metadata": {},
   "outputs": [
    {
     "name": "stdout",
     "output_type": "stream",
     "text": [
      "6\n"
     ]
    }
   ],
   "source": [
    "### write operation(a):\n",
    "f=open('Files/file.txt','a')\n",
    "fh=f.write(\"APSSDC\")\n",
    "print(fh)\n",
    "f.close()"
   ]
  },
  {
   "cell_type": "markdown",
   "metadata": {},
   "source": [
    "### withopen()\n",
    "    - withopen() will also be used to open the file.\n",
    "    - here there is no need to close the file every time the word \n",
    "        with automatically close the file"
   ]
  },
  {
   "cell_type": "code",
   "execution_count": 9,
   "metadata": {},
   "outputs": [
    {
     "name": "stdout",
     "output_type": "stream",
     "text": [
      "Hai students welcome to python programming session \n",
      "HaiAPSSDC\n"
     ]
    }
   ],
   "source": [
    "with open('Files/file.txt') as f:\n",
    "    g=f.read()\n",
    "    print(g)"
   ]
  },
  {
   "cell_type": "code",
   "execution_count": 10,
   "metadata": {},
   "outputs": [
    {
     "name": "stdout",
     "output_type": "stream",
     "text": [
      "Hai students welcome to python programming session \n",
      "HaiAPSSDC\n"
     ]
    }
   ],
   "source": [
    "with open('Files/file.txt','r') as f:\n",
    "    g=f.read()\n",
    "    print(g)"
   ]
  },
  {
   "cell_type": "code",
   "execution_count": 11,
   "metadata": {},
   "outputs": [
    {
     "name": "stdout",
     "output_type": "stream",
     "text": [
      "21\n"
     ]
    }
   ],
   "source": [
    "with open('Files/file.txt','w') as f:\n",
    "    g=f.write(\"please open your file \\n\")\n",
    "    print(g)"
   ]
  },
  {
   "cell_type": "code",
   "execution_count": 15,
   "metadata": {},
   "outputs": [
    {
     "name": "stdout",
     "output_type": "stream",
     "text": [
      "40\n"
     ]
    }
   ],
   "source": [
    "with open('Files/file.txt','a') as f:\n",
    "    g=f.write(\"ap state skill development corporation \\n\")\n",
    "    print(g)"
   ]
  },
  {
   "cell_type": "markdown",
   "metadata": {},
   "source": [
    "#### File methods:\n",
    "    - read()\n",
    "    - tell()\n",
    "    - seek()\n",
    "    - split()\n",
    "    - readline()\n",
    "    - readlines()"
   ]
  },
  {
   "cell_type": "code",
   "execution_count": 17,
   "metadata": {},
   "outputs": [
    {
     "name": "stdout",
     "output_type": "stream",
     "text": [
      "please ope\n"
     ]
    }
   ],
   "source": [
    "## read()\n",
    "f1=open('Files/file.txt')\n",
    "data=f1.read(10)\n",
    "print(data)\n",
    "f1.close()"
   ]
  },
  {
   "cell_type": "code",
   "execution_count": 25,
   "metadata": {},
   "outputs": [
    {
     "name": "stdout",
     "output_type": "stream",
     "text": [
      "please open your fileap state skill development corporationap state skill development corporationap state skill development corporationap state skill development corporation \n",
      "\n",
      "\n",
      "\n",
      "\n",
      "\n"
     ]
    }
   ],
   "source": [
    "## readline()\n",
    "with open('Files/file.txt') as lf:\n",
    "    data1=lf.readline()\n",
    "    print(data1)\n",
    "    print(lf.readline())\n",
    "    print(lf.readline())"
   ]
  },
  {
   "cell_type": "code",
   "execution_count": 26,
   "metadata": {},
   "outputs": [
    {
     "name": "stdout",
     "output_type": "stream",
     "text": [
      "['please open your fileap state skill development corporationap state skill development corporationap state skill development corporationap state skill development corporation \\n', '\\n', '\\n']\n"
     ]
    }
   ],
   "source": [
    "## readlines()\n",
    "with open('Files/file.txt') as lf:\n",
    "    data1=lf.readlines()\n",
    "    print(data1)"
   ]
  },
  {
   "cell_type": "code",
   "execution_count": 29,
   "metadata": {},
   "outputs": [
    {
     "name": "stdout",
     "output_type": "stream",
     "text": [
      "0\n"
     ]
    }
   ],
   "source": [
    "### tell()- using tell() we can get cursor position value\n",
    "with open('Files/file.txt') as lf:\n",
    "#     f=lf.read()\n",
    "    print(lf.tell())"
   ]
  },
  {
   "cell_type": "code",
   "execution_count": 30,
   "metadata": {},
   "outputs": [
    {
     "name": "stdout",
     "output_type": "stream",
     "text": [
      "177\n"
     ]
    }
   ],
   "source": [
    "with open('Files/file.txt') as lf:\n",
    "    lf.read()\n",
    "    print(lf.tell())"
   ]
  },
  {
   "cell_type": "code",
   "execution_count": 34,
   "metadata": {},
   "outputs": [
    {
     "name": "stdout",
     "output_type": "stream",
     "text": [
      "e open you\n"
     ]
    }
   ],
   "source": [
    "## seek()-cursor position will goes to 0 position\n",
    "with open('Files/file.txt') as lf:\n",
    "    lf.read()\n",
    "    lf.seek(5)\n",
    "    print(lf.read(10))"
   ]
  },
  {
   "cell_type": "code",
   "execution_count": 35,
   "metadata": {},
   "outputs": [
    {
     "name": "stdout",
     "output_type": "stream",
     "text": [
      "['please', 'open', 'your', 'fileap', 'state', 'skill', 'development', 'corporationap', 'state', 'skill', 'development', 'corporationap', 'state', 'skill', 'development', 'corporationap', 'state', 'skill', 'development', 'corporation']\n"
     ]
    }
   ],
   "source": [
    "## split():\n",
    "with open('Files/file.txt') as lf:\n",
    "    g=lf.read()\n",
    "    h=g.split()\n",
    "    print(h)\n",
    "   "
   ]
  },
  {
   "cell_type": "code",
   "execution_count": null,
   "metadata": {},
   "outputs": [],
   "source": []
  }
 ],
 "metadata": {
  "kernelspec": {
   "display_name": "Python 3",
   "language": "python",
   "name": "python3"
  },
  "language_info": {
   "codemirror_mode": {
    "name": "ipython",
    "version": 3
   },
   "file_extension": ".py",
   "mimetype": "text/x-python",
   "name": "python",
   "nbconvert_exporter": "python",
   "pygments_lexer": "ipython3",
   "version": "3.7.3"
  }
 },
 "nbformat": 4,
 "nbformat_minor": 2
}
