{
 "cells": [
  {
   "cell_type": "markdown",
   "id": "410d1da0",
   "metadata": {},
   "source": [
    "### a.\tRead a list of numbers and print the numbers divisible by x but not by y (Assume x = 4 and y = 5)."
   ]
  },
  {
   "cell_type": "code",
   "execution_count": 3,
   "id": "a86d3a50",
   "metadata": {},
   "outputs": [
    {
     "name": "stdout",
     "output_type": "stream",
     "text": [
      "Enter list of values!..12 15 18 10 20 55 60\n",
      "Enter x value!..2\n",
      "Enter y value!5\n",
      "[12, 15, 18, 10, 20, 55, 60]\n",
      "12 18 "
     ]
    }
   ],
   "source": [
    "L1 = input(\"Enter list of values!..\").split()\n",
    "x = int(input(\"Enter x value!..\"))\n",
    "y = int(input(\"Enter y value!\"))\n",
    "L2 = []\n",
    "for i in L1:\n",
    "    L2.append(int(i))\n",
    "print(L2)\n",
    "for i in L2:\n",
    "    if i%x==0 and i%y!=0:\n",
    "        print(i,end=\" \")"
   ]
  },
  {
   "cell_type": "markdown",
   "id": "b325839d",
   "metadata": {},
   "source": [
    "### b.\tRead a list of numbers and print the sum of odd integers and even integers from the list.(Ex: [23, 10, 15, 14, 63], odd numbers sum = 101, even numbers sum = 24)"
   ]
  },
  {
   "cell_type": "code",
   "execution_count": 5,
   "id": "78a351f2",
   "metadata": {},
   "outputs": [
    {
     "name": "stdout",
     "output_type": "stream",
     "text": [
      "Enter list of values!..10 20 15 1 3 12\n",
      "[10, 20, 15, 1, 3, 12]\n",
      "Even numbers sum is :  42\n",
      "Odd numbers sum is :  19\n"
     ]
    }
   ],
   "source": [
    "L2 = input(\"Enter list of values!..\").split()\n",
    "odd_sum = 0\n",
    "even_sum = 0\n",
    "L3 = []\n",
    "for i in L2:\n",
    "    L3.append(int(i))\n",
    "print(L3)\n",
    "for i in L3:\n",
    "    if i%2==0:\n",
    "        even_sum = even_sum+i\n",
    "    else:\n",
    "        odd_sum = odd_sum+i\n",
    "print(\"Even numbers sum is : \",even_sum)\n",
    "print(\"Odd numbers sum is : \",odd_sum)"
   ]
  },
  {
   "cell_type": "markdown",
   "id": "5bf43b34",
   "metadata": {},
   "source": [
    "### c.\tRead a list of numbers and print numbers present in odd index position. (Ex: [10, 25, 30, 47, 56, 84, 96], The numbers in odd index position: 25 47 84)."
   ]
  },
  {
   "cell_type": "code",
   "execution_count": 11,
   "id": "3b917138",
   "metadata": {},
   "outputs": [
    {
     "name": "stdout",
     "output_type": "stream",
     "text": [
      "Enter list of numbers!..10 20 30 40 50\n",
      "['10', '20', '30', '40', '50']\n",
      "[10, 20, 30, 40, 50]\n",
      "The numbers in odd index position is\n",
      "20 40 "
     ]
    }
   ],
   "source": [
    "L1 = input(\"Enter list of numbers!..\").split()\n",
    "print(L1)\n",
    "L2 = []\n",
    "for i in L1:\n",
    "    L2.append(int(i))\n",
    "print(L2)\n",
    "print(\"The numbers in odd index position is\")\n",
    "for i in range(0,len(L2)):\n",
    "    if i%2!=0:\n",
    "        print(L2[i],end=\" \")\n",
    "    "
   ]
  },
  {
   "cell_type": "markdown",
   "id": "3b46ca94",
   "metadata": {},
   "source": [
    "### d.\tRead a list of numbers and remove the duplicate numbers from it. (Ex: Enter a list with duplicate elements: 10 20 40 10 50 30 20 10 80, The unique list is: [10, 20, 30, 40, 50, 80])"
   ]
  },
  {
   "cell_type": "code",
   "execution_count": 13,
   "id": "c8f67b6a",
   "metadata": {},
   "outputs": [
    {
     "name": "stdout",
     "output_type": "stream",
     "text": [
      "Enter list of numbers!..10 20 10 30 20 40 30 10 60 50 40\n",
      "['10', '20', '10', '30', '20', '40', '30', '10', '60', '50', '40']\n",
      "[10, 20, 10, 30, 20, 40, 30, 10, 60, 50, 40]\n",
      "[10, 20, 30, 40, 60, 50]\n"
     ]
    }
   ],
   "source": [
    "L1 = input(\"Enter list of numbers!..\").split()\n",
    "print(L1)\n",
    "L2 = []\n",
    "for i in L1:\n",
    "    L2.append(int(i))\n",
    "print(L2)\n",
    "# logic to remove the duplication of values..\n",
    "unique = []\n",
    "for i in L2:\n",
    "    if i not in unique:\n",
    "        unique.append(i)\n",
    "print(unique)"
   ]
  },
  {
   "cell_type": "code",
   "execution_count": null,
   "id": "4a315f24",
   "metadata": {},
   "outputs": [],
   "source": []
  }
 ],
 "metadata": {
  "kernelspec": {
   "display_name": "Python 3",
   "language": "python",
   "name": "python3"
  },
  "language_info": {
   "codemirror_mode": {
    "name": "ipython",
    "version": 3
   },
   "file_extension": ".py",
   "mimetype": "text/x-python",
   "name": "python",
   "nbconvert_exporter": "python",
   "pygments_lexer": "ipython3",
   "version": "3.8.8"
  }
 },
 "nbformat": 4,
 "nbformat_minor": 5
}
