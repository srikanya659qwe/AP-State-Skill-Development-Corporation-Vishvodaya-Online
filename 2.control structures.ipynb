{
 "cells": [
  {
   "cell_type": "markdown",
   "id": "142303a1",
   "metadata": {},
   "source": [
    "### a.Read your email id and write a program to display the no of vowels, consonants, digits and white spaces in it using if…elif…else statement."
   ]
  },
  {
   "cell_type": "code",
   "execution_count": 3,
   "id": "e5a9f869",
   "metadata": {},
   "outputs": [
    {
     "name": "stdout",
     "output_type": "stream",
     "text": [
      "Enter email-id!...narmada113  \n",
      "number of vowels:  3\n",
      "number of consonants:  4\n",
      "number of digits:  3\n",
      "number of spaces:  2\n"
     ]
    }
   ],
   "source": [
    "email = input(\"Enter email-id!...\")\n",
    "vow=con=dig=whi=0\n",
    "for i in email:\n",
    "    if i.isdigit():\n",
    "        dig = dig+1\n",
    "    elif i.isspace():\n",
    "        whi = whi+1\n",
    "    elif (i=='a' or i=='e' or i=='i' or i=='o' or i=='u'):\n",
    "        vow = vow+1\n",
    "    else:\n",
    "        con = con+1\n",
    "print(\"number of vowels: \",vow)\n",
    "print(\"number of consonants: \",con)\n",
    "print(\"number of digits: \",dig)\n",
    "print(\"number of spaces: \",whi)"
   ]
  },
  {
   "cell_type": "markdown",
   "id": "6857b2b2",
   "metadata": {},
   "source": [
    "### b.\tWrite a program to create and display a dictionary by storing the antonyms of words. Find the antonym of a particular word given by the user from the dictionary using while loop."
   ]
  },
  {
   "cell_type": "code",
   "execution_count": 7,
   "id": "43d0400e",
   "metadata": {},
   "outputs": [
    {
     "name": "stdout",
     "output_type": "stream",
     "text": [
      "Enter key nameup\n",
      "Enter valuedown\n",
      "Enter key nameroght\n",
      "Enter valueleft\n",
      "{'up': 'down', 'roght': 'left'}\n",
      "Enter antonym particular word!..roght\n",
      "antonym is , left\n"
     ]
    }
   ],
   "source": [
    "d ={}\n",
    "for i in range(1,3):\n",
    "    key = input(\"Enter key name\")\n",
    "    value = input(\"Enter value\")\n",
    "    d[key]=value\n",
    "print(d)\n",
    "anword = input(\"Enter antonym particular word!..\")\n",
    "if anword in d:\n",
    "    print(\"antonym is ,\",d[anword])\n",
    "else:\n",
    "    print(\"not available!..\")"
   ]
  },
  {
   "cell_type": "markdown",
   "id": "8d05743a",
   "metadata": {},
   "source": [
    "### c.\tWrite a Program to find the sum of a Series 1/1! + 2/2! + 3/3! + 4/4! +…….+ n/n!. (Input :n = 5, Output : 2.70833)"
   ]
  },
  {
   "cell_type": "code",
   "execution_count": 5,
   "id": "359cfbeb",
   "metadata": {},
   "outputs": [
    {
     "name": "stdout",
     "output_type": "stream",
     "text": [
      "Enter n value!..5\n",
      "2.708333333333333\n"
     ]
    }
   ],
   "source": [
    "n = int(input(\"Enter n value!..\"))\n",
    "def factorial(n):\n",
    "    f1 = 1\n",
    "    for i in range(1,n+1):\n",
    "        f1 = f1*i\n",
    "    return f1\n",
    "s1 = 0\n",
    "for i in range(1,n+1):\n",
    "    s1 = s1 + (i/factorial(i))\n",
    "print(s1)"
   ]
  },
  {
   "cell_type": "markdown",
   "id": "f251907c",
   "metadata": {},
   "source": [
    "### d.\tIn number theory, an abundant number or excessive number is a number for which the sum of its proper divisors is greater than the number itself. Write a program to find out, if the given number is abundant. (Input: 12, Sum of divisors of 12 = 1 + 2 + 3 + 4 + 6 = 16, sum of divisors 16 > original number 12)"
   ]
  },
  {
   "cell_type": "code",
   "execution_count": 13,
   "id": "cd1fac92",
   "metadata": {},
   "outputs": [
    {
     "name": "stdout",
     "output_type": "stream",
     "text": [
      "Enter n value!..6\n",
      "It is not a abundant number!..\n"
     ]
    }
   ],
   "source": [
    "n = int(input(\"Enter n value!..\"))\n",
    "s1 = 0\n",
    "for i in range(1,n):\n",
    "    if n%i==0:\n",
    "        s1 = s1+i\n",
    "if s1>n:\n",
    "    print(\"It is abundant number!..\")\n",
    "else:\n",
    "    print(\"It is not a abundant number!..\")"
   ]
  },
  {
   "cell_type": "code",
   "execution_count": null,
   "id": "4303b7ee",
   "metadata": {},
   "outputs": [],
   "source": []
  }
 ],
 "metadata": {
  "kernelspec": {
   "display_name": "Python 3",
   "language": "python",
   "name": "python3"
  },
  "language_info": {
   "codemirror_mode": {
    "name": "ipython",
    "version": 3
   },
   "file_extension": ".py",
   "mimetype": "text/x-python",
   "name": "python",
   "nbconvert_exporter": "python",
   "pygments_lexer": "ipython3",
   "version": "3.8.8"
  }
 },
 "nbformat": 4,
 "nbformat_minor": 5
}
