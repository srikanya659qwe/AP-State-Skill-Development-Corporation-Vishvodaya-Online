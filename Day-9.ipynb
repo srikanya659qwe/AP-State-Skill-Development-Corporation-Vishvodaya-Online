{
 "cells": [
  {
   "cell_type": "markdown",
   "metadata": {},
   "source": [
    "#### Day Objectives:\n",
    "    - Dictionary\n",
    "    - sets\n",
    "    - list comprehension"
   ]
  },
  {
   "cell_type": "code",
   "execution_count": 1,
   "metadata": {
    "collapsed": true
   },
   "outputs": [
    {
     "name": "stdout",
     "output_type": "stream",
     "text": [
      "['__class__', '__contains__', '__delattr__', '__delitem__', '__dir__', '__doc__', '__eq__', '__format__', '__ge__', '__getattribute__', '__getitem__', '__gt__', '__hash__', '__init__', '__init_subclass__', '__iter__', '__le__', '__len__', '__lt__', '__ne__', '__new__', '__reduce__', '__reduce_ex__', '__repr__', '__setattr__', '__setitem__', '__sizeof__', '__str__', '__subclasshook__', 'clear', 'copy', 'fromkeys', 'get', 'items', 'keys', 'pop', 'popitem', 'setdefault', 'update', 'values']\n"
     ]
    }
   ],
   "source": [
    "print(dir(dict))"
   ]
  },
  {
   "cell_type": "code",
   "execution_count": null,
   "metadata": {},
   "outputs": [],
   "source": [
    "### popitem(),clear(),fromkeys()"
   ]
  },
  {
   "cell_type": "code",
   "execution_count": null,
   "metadata": {},
   "outputs": [],
   "source": [
    "### popitem():\n",
    "    - to delete the last item from the dict\n",
    "    - dict_name.popitem()"
   ]
  },
  {
   "cell_type": "code",
   "execution_count": 3,
   "metadata": {},
   "outputs": [
    {
     "name": "stdout",
     "output_type": "stream",
     "text": [
      "{'a': 100, 'name': 'siri', 'branch': 'CSE', 'cgpa': 7.0}\n",
      "<class 'dict'>\n"
     ]
    }
   ],
   "source": [
    "d1={'a':100,'name':'siri','branch':'CSE','cgpa':7.0}\n",
    "print(d1)\n",
    "print(type(d1))"
   ]
  },
  {
   "cell_type": "code",
   "execution_count": 4,
   "metadata": {},
   "outputs": [
    {
     "name": "stdout",
     "output_type": "stream",
     "text": [
      "('cgpa', 7.0)\n"
     ]
    }
   ],
   "source": [
    "print(d1.popitem())"
   ]
  },
  {
   "cell_type": "code",
   "execution_count": 5,
   "metadata": {},
   "outputs": [
    {
     "name": "stdout",
     "output_type": "stream",
     "text": [
      "{'a': 100, 'name': 'siri', 'branch': 'CSE'}\n"
     ]
    }
   ],
   "source": [
    "print(d1)"
   ]
  },
  {
   "cell_type": "markdown",
   "metadata": {},
   "source": [
    "## from keys():\n",
    "    - it returns the new dict\n",
    "    - variable_name=dict.fromkeys(values)"
   ]
  },
  {
   "cell_type": "code",
   "execution_count": 7,
   "metadata": {},
   "outputs": [
    {
     "name": "stdout",
     "output_type": "stream",
     "text": [
      "{1: 'python', 2: 'string', 3: 100}\n"
     ]
    }
   ],
   "source": [
    "l1=[1,2,3]\n",
    "d2=dict.fromkeys(l1)\n",
    "d2[1]='python'\n",
    "d2[2]='string'\n",
    "d2[3]=100\n",
    "print(d2)"
   ]
  },
  {
   "cell_type": "code",
   "execution_count": null,
   "metadata": {},
   "outputs": [],
   "source": [
    "### clear():\n",
    "    - to clear the data from dict\n",
    "    - dict_name.clear()"
   ]
  },
  {
   "cell_type": "code",
   "execution_count": 9,
   "metadata": {},
   "outputs": [
    {
     "data": {
      "text/plain": [
       "{'a': 100, 'name': 'siri', 'branch': 'CSE'}"
      ]
     },
     "execution_count": 9,
     "metadata": {},
     "output_type": "execute_result"
    }
   ],
   "source": [
    "d1"
   ]
  },
  {
   "cell_type": "code",
   "execution_count": 10,
   "metadata": {},
   "outputs": [
    {
     "name": "stdout",
     "output_type": "stream",
     "text": [
      "None\n"
     ]
    }
   ],
   "source": [
    "print(d1.clear())"
   ]
  },
  {
   "cell_type": "code",
   "execution_count": 11,
   "metadata": {},
   "outputs": [
    {
     "name": "stdout",
     "output_type": "stream",
     "text": [
      "{}\n"
     ]
    }
   ],
   "source": [
    "print(d1)"
   ]
  },
  {
   "cell_type": "code",
   "execution_count": 12,
   "metadata": {},
   "outputs": [
    {
     "name": "stdout",
     "output_type": "stream",
     "text": [
      "{1: 'python', 2: 'string', 3: 100}\n"
     ]
    }
   ],
   "source": [
    "print(d2)"
   ]
  },
  {
   "cell_type": "code",
   "execution_count": 13,
   "metadata": {},
   "outputs": [
    {
     "name": "stdout",
     "output_type": "stream",
     "text": [
      "None\n"
     ]
    }
   ],
   "source": [
    "print(d2.clear())"
   ]
  },
  {
   "cell_type": "code",
   "execution_count": 14,
   "metadata": {},
   "outputs": [
    {
     "name": "stdout",
     "output_type": "stream",
     "text": [
      "{}\n"
     ]
    }
   ],
   "source": [
    "print(d2)"
   ]
  },
  {
   "cell_type": "code",
   "execution_count": 23,
   "metadata": {
    "collapsed": true
   },
   "outputs": [
    {
     "name": "stdout",
     "output_type": "stream",
     "text": [
      "{'name': 'srikanya', 'rollnumber': 130659, 'branch': 'CSE', 'cgpa': 7.0}\n",
      "name rollnumber branch cgpa \n",
      "srikanya 130659 CSE 7.0 \n",
      "('name', 'srikanya')\n",
      "('rollnumber', 130659)\n",
      "('branch', 'CSE')\n",
      "('cgpa', 7.0)\n",
      "===================\n",
      "name ---> srikanya\n",
      "rollnumber ---> 130659\n",
      "branch ---> CSE\n",
      "cgpa ---> 7.0\n"
     ]
    }
   ],
   "source": [
    "## using for loop we can get dict values\n",
    "d1={'name':'srikanya','rollnumber':130659,'branch':'CSE','cgpa':7.0}\n",
    "print(d1)\n",
    "for j in d1:\n",
    "    print(j,end=\" \")# to get the key names only\n",
    "print()\n",
    "for j in d1.values():# to get the values from dict\n",
    "    print(j,end=\" \")\n",
    "print()\n",
    "for j in d1.items():\n",
    "    print(j)\n",
    "print(\"===================\")\n",
    "for i,j in d1.items():\n",
    "    print(i,'--->',j)"
   ]
  },
  {
   "cell_type": "code",
   "execution_count": 25,
   "metadata": {
    "collapsed": true
   },
   "outputs": [
    {
     "name": "stdout",
     "output_type": "stream",
     "text": [
      "2\n",
      "4\n"
     ]
    }
   ],
   "source": [
    "d3={1:20,2:45,3:56,4:79}\n",
    "# to print the only even keys\n",
    "for i in d3:\n",
    "    if i%2==0:\n",
    "        print(i)"
   ]
  },
  {
   "cell_type": "code",
   "execution_count": 26,
   "metadata": {
    "collapsed": true
   },
   "outputs": [
    {
     "name": "stdout",
     "output_type": "stream",
     "text": [
      "1\n",
      "3\n"
     ]
    }
   ],
   "source": [
    "d3={1:20,2:45,3:56,4:79}\n",
    "# to print the only even keys\n",
    "for i in d3:\n",
    "    if i%2!=0:\n",
    "        print(i)"
   ]
  },
  {
   "cell_type": "code",
   "execution_count": null,
   "metadata": {},
   "outputs": [],
   "source": [
    "## to read the two inputs from user and stored those data into dict"
   ]
  },
  {
   "cell_type": "code",
   "execution_count": 27,
   "metadata": {},
   "outputs": [
    {
     "name": "stdout",
     "output_type": "stream",
     "text": [
      "enter key name herename\n",
      "enter value heresrikanya\n",
      "{'name': 'srikanya'}\n"
     ]
    }
   ],
   "source": [
    "d={}\n",
    "key=input(\"enter key name here\")\n",
    "value=input(\"enter value here\")\n",
    "d[key]=value\n",
    "print(d)"
   ]
  },
  {
   "cell_type": "code",
   "execution_count": null,
   "metadata": {},
   "outputs": [],
   "source": [
    "##### i/p:['apssdc','vec','srit']\n",
    "#### o/p:{'apssdc':6,'vec':3,'srit':4}"
   ]
  },
  {
   "cell_type": "code",
   "execution_count": 31,
   "metadata": {},
   "outputs": [
    {
     "name": "stdout",
     "output_type": "stream",
     "text": [
      "{'apssdc': 6, 'vec': 3, 'srit': 4}\n"
     ]
    }
   ],
   "source": [
    "l1=['apssdc','vec','srit']\n",
    "d={}\n",
    "for i in l1:\n",
    "    d[i]=len(i)\n",
    "print(d)\n"
   ]
  },
  {
   "cell_type": "code",
   "execution_count": null,
   "metadata": {},
   "outputs": [],
   "source": [
    "#### sets:\n",
    "    - it is unordered and unindexed\n",
    "    - in python sets are written curly brackets({})\n",
    "    - in sets data cant update but we can add new data\n",
    "    - it does not allow duplicates\n",
    "    "
   ]
  },
  {
   "cell_type": "code",
   "execution_count": 32,
   "metadata": {},
   "outputs": [
    {
     "name": "stdout",
     "output_type": "stream",
     "text": [
      "set()\n"
     ]
    }
   ],
   "source": [
    "## to create the empty set using set data type\n",
    "s=set()\n",
    "print(s)"
   ]
  },
  {
   "cell_type": "code",
   "execution_count": 33,
   "metadata": {},
   "outputs": [
    {
     "name": "stdout",
     "output_type": "stream",
     "text": [
      "<class 'set'>\n"
     ]
    }
   ],
   "source": [
    "print(type(s))"
   ]
  },
  {
   "cell_type": "code",
   "execution_count": 35,
   "metadata": {},
   "outputs": [
    {
     "name": "stdout",
     "output_type": "stream",
     "text": [
      "{34, 67, 10, 45, 78, 20, 23, 56, 90}\n",
      "<class 'set'>\n"
     ]
    }
   ],
   "source": [
    "### to assign values to set...\n",
    "s={10,20,78,90,67,56,45,34,23}\n",
    "print(s)\n",
    "print(type(s))"
   ]
  },
  {
   "cell_type": "code",
   "execution_count": 36,
   "metadata": {},
   "outputs": [
    {
     "name": "stdout",
     "output_type": "stream",
     "text": [
      "34 67 10 45 78 20 23 56 90 "
     ]
    }
   ],
   "source": [
    "for i in s:\n",
    "    print(i,end=\" \")"
   ]
  },
  {
   "cell_type": "code",
   "execution_count": 37,
   "metadata": {
    "collapsed": true
   },
   "outputs": [
    {
     "name": "stdout",
     "output_type": "stream",
     "text": [
      "['__and__', '__class__', '__contains__', '__delattr__', '__dir__', '__doc__', '__eq__', '__format__', '__ge__', '__getattribute__', '__gt__', '__hash__', '__iand__', '__init__', '__init_subclass__', '__ior__', '__isub__', '__iter__', '__ixor__', '__le__', '__len__', '__lt__', '__ne__', '__new__', '__or__', '__rand__', '__reduce__', '__reduce_ex__', '__repr__', '__ror__', '__rsub__', '__rxor__', '__setattr__', '__sizeof__', '__str__', '__sub__', '__subclasshook__', '__xor__', 'add', 'clear', 'copy', 'difference', 'difference_update', 'discard', 'intersection', 'intersection_update', 'isdisjoint', 'issubset', 'issuperset', 'pop', 'remove', 'symmetric_difference', 'symmetric_difference_update', 'union', 'update']\n"
     ]
    }
   ],
   "source": [
    "### set methods\n",
    "print(dir(set))"
   ]
  },
  {
   "cell_type": "code",
   "execution_count": null,
   "metadata": {},
   "outputs": [],
   "source": [
    "## add():\n",
    "    - we can add new element to the set\n",
    "    - set_name.add(element)"
   ]
  },
  {
   "cell_type": "code",
   "execution_count": 40,
   "metadata": {
    "collapsed": true
   },
   "outputs": [
    {
     "name": "stdout",
     "output_type": "stream",
     "text": [
      "{34, 67, 100, 10, 45, 78, 20, 23, 56, 90}\n",
      "None\n",
      "{34, 67, 100, 10, 45, 78, 20, 23, 56, 90}\n",
      "None\n",
      "{34, 67, 100, 10, 45, 78, 20, 23, 56, 90, 30}\n"
     ]
    }
   ],
   "source": [
    "print(s)\n",
    "print(s.add(100))\n",
    "print(s)\n",
    "print(s.add(30))\n",
    "print(s)"
   ]
  },
  {
   "cell_type": "code",
   "execution_count": null,
   "metadata": {},
   "outputs": [],
   "source": [
    "### update():\n",
    "    - by using update method we can add multiple values\n",
    "    - set_name.update([list of data])"
   ]
  },
  {
   "cell_type": "code",
   "execution_count": 43,
   "metadata": {},
   "outputs": [
    {
     "name": "stdout",
     "output_type": "stream",
     "text": [
      "{34, 67, 100, 10, 45, 78, 20, 22, 23, 56, 90, 30}\n",
      "None\n",
      "{34, 67, 100, 10, 45, 78, 20, 22, 23, 56, 90, 30}\n"
     ]
    }
   ],
   "source": [
    "print(s)\n",
    "print(s.update([22,45,34]))\n",
    "print(s)"
   ]
  },
  {
   "cell_type": "code",
   "execution_count": null,
   "metadata": {},
   "outputs": [],
   "source": [
    "### copy():\n",
    "    - to copy the data from one set to another set\n",
    "    - set_name.copy()"
   ]
  },
  {
   "cell_type": "code",
   "execution_count": 44,
   "metadata": {},
   "outputs": [
    {
     "name": "stdout",
     "output_type": "stream",
     "text": [
      "{34, 67, 100, 10, 45, 78, 20, 22, 23, 56, 90, 30}\n"
     ]
    }
   ],
   "source": [
    "print(s)"
   ]
  },
  {
   "cell_type": "code",
   "execution_count": 45,
   "metadata": {},
   "outputs": [
    {
     "name": "stdout",
     "output_type": "stream",
     "text": [
      "{34, 67, 100, 10, 45, 78, 20, 22, 23, 56, 90, 30}\n"
     ]
    }
   ],
   "source": [
    "s1=s.copy()\n",
    "print(s1)"
   ]
  },
  {
   "cell_type": "code",
   "execution_count": null,
   "metadata": {},
   "outputs": [],
   "source": [
    "### remove():\n",
    "    - to remove element from the set\n",
    "    - set_name.remove(element)"
   ]
  },
  {
   "cell_type": "code",
   "execution_count": 46,
   "metadata": {},
   "outputs": [
    {
     "name": "stdout",
     "output_type": "stream",
     "text": [
      "{34, 67, 100, 10, 45, 78, 20, 22, 23, 56, 90, 30}\n"
     ]
    }
   ],
   "source": [
    "print(s1)"
   ]
  },
  {
   "cell_type": "code",
   "execution_count": 47,
   "metadata": {},
   "outputs": [
    {
     "name": "stdout",
     "output_type": "stream",
     "text": [
      "None\n"
     ]
    }
   ],
   "source": [
    "print(s1.remove(100))"
   ]
  },
  {
   "cell_type": "code",
   "execution_count": 48,
   "metadata": {},
   "outputs": [
    {
     "name": "stdout",
     "output_type": "stream",
     "text": [
      "{34, 67, 10, 45, 78, 20, 22, 23, 56, 90, 30}\n"
     ]
    }
   ],
   "source": [
    "print(s1)"
   ]
  },
  {
   "cell_type": "code",
   "execution_count": null,
   "metadata": {},
   "outputs": [],
   "source": [
    "## discard():\n",
    "    - set_name.discard(element)"
   ]
  },
  {
   "cell_type": "code",
   "execution_count": 51,
   "metadata": {},
   "outputs": [
    {
     "name": "stdout",
     "output_type": "stream",
     "text": [
      "{34, 67, 100, 10, 45, 20, 22, 23, 56, 90, 30}\n",
      "None\n",
      "{34, 67, 100, 10, 45, 20, 22, 23, 56, 90, 30}\n"
     ]
    }
   ],
   "source": [
    "print(s)\n",
    "print(s.discard(78))\n",
    "print(s)"
   ]
  },
  {
   "cell_type": "code",
   "execution_count": 53,
   "metadata": {},
   "outputs": [
    {
     "name": "stdout",
     "output_type": "stream",
     "text": [
      "None\n",
      "{34, 67, 45, 78, 20, 22, 23, 56, 90, 30}\n"
     ]
    }
   ],
   "source": [
    "print(s1.discard(10))\n",
    "print(s1)"
   ]
  },
  {
   "cell_type": "code",
   "execution_count": null,
   "metadata": {},
   "outputs": [],
   "source": [
    "#### pop():\n",
    "    - to delete the element from set-->first deletion\n",
    "    - set_name.pop()"
   ]
  },
  {
   "cell_type": "code",
   "execution_count": 57,
   "metadata": {},
   "outputs": [
    {
     "name": "stdout",
     "output_type": "stream",
     "text": [
      "{78, 20, 22, 23, 56, 90, 30}\n",
      "{20, 22, 23, 56, 90, 30}\n",
      "{22, 23, 56, 90, 30}\n",
      "{23, 56, 90, 30}\n"
     ]
    }
   ],
   "source": [
    "print(s1)\n",
    "s1.pop()\n",
    "print(s1)\n",
    "s1.pop()\n",
    "print(s1)\n",
    "s1.pop()\n",
    "print(s1)"
   ]
  },
  {
   "cell_type": "code",
   "execution_count": null,
   "metadata": {},
   "outputs": [],
   "source": [
    "### union()\n",
    "### intersection()\n",
    "### difference()"
   ]
  },
  {
   "cell_type": "code",
   "execution_count": null,
   "metadata": {},
   "outputs": [],
   "source": [
    "### union():\n",
    "    - to combine two sets\n",
    "    - set1.union(set2)"
   ]
  },
  {
   "cell_type": "code",
   "execution_count": 58,
   "metadata": {},
   "outputs": [
    {
     "name": "stdout",
     "output_type": "stream",
     "text": [
      "{1, 3, 'n', 6, 'a', 'm'}\n"
     ]
    }
   ],
   "source": [
    "set1={1,3,6}\n",
    "set2={'a','n','m'}\n",
    "s3=set1.union(set2)\n",
    "print(s3)"
   ]
  },
  {
   "cell_type": "code",
   "execution_count": null,
   "metadata": {},
   "outputs": [],
   "source": [
    "### intersection():\n",
    "    - it returns common elements from both sets\n",
    "    - set1.intersection(set2)"
   ]
  },
  {
   "cell_type": "code",
   "execution_count": 59,
   "metadata": {},
   "outputs": [
    {
     "name": "stdout",
     "output_type": "stream",
     "text": [
      "{0, 6, 7}\n"
     ]
    }
   ],
   "source": [
    "set1={6,7,8,9,0}\n",
    "set2={5,6,0,2,7,3}\n",
    "s3=set1.intersection(set2)\n",
    "print(s3)"
   ]
  },
  {
   "cell_type": "code",
   "execution_count": null,
   "metadata": {},
   "outputs": [],
   "source": [
    "### difference():\n",
    "    - the elements that are only in set a,not only in set b\n",
    "    - set1.difference(set2)"
   ]
  },
  {
   "cell_type": "code",
   "execution_count": 60,
   "metadata": {},
   "outputs": [
    {
     "name": "stdout",
     "output_type": "stream",
     "text": [
      "{8, 9}\n"
     ]
    }
   ],
   "source": [
    "set1={6,7,8,9,0}\n",
    "set2={5,6,0,2,7,3}\n",
    "s3=set1.difference(set2)\n",
    "print(s3)"
   ]
  },
  {
   "cell_type": "markdown",
   "metadata": {},
   "source": [
    "### list comprehension:\n",
    "    - to create the new list from another iterable\n",
    "    - syntax:\n",
    "        list_name=[output forloop conditional statements]"
   ]
  },
  {
   "cell_type": "code",
   "execution_count": 61,
   "metadata": {},
   "outputs": [
    {
     "name": "stdout",
     "output_type": "stream",
     "text": [
      "1 2 3 4 5 6 7 8 9 10 "
     ]
    }
   ],
   "source": [
    "### to generate the natural numbers from 1 to 10\n",
    "\n",
    "for i in range(1,11):\n",
    "    print(i,end=\" \")"
   ]
  },
  {
   "cell_type": "code",
   "execution_count": 63,
   "metadata": {},
   "outputs": [
    {
     "name": "stdout",
     "output_type": "stream",
     "text": [
      "[1, 2, 3, 4, 5, 6, 7, 8, 9, 10]\n"
     ]
    }
   ],
   "source": [
    "l=[]\n",
    "for i in range(1,11):\n",
    "    l.append(i)\n",
    "print(l)"
   ]
  },
  {
   "cell_type": "code",
   "execution_count": 64,
   "metadata": {},
   "outputs": [
    {
     "name": "stdout",
     "output_type": "stream",
     "text": [
      "[1, 2, 3, 4, 5, 6, 7, 8, 9, 10]\n"
     ]
    }
   ],
   "source": [
    "l=[i for i in range(1,11)]\n",
    "print(l)"
   ]
  },
  {
   "cell_type": "code",
   "execution_count": 65,
   "metadata": {},
   "outputs": [
    {
     "name": "stdout",
     "output_type": "stream",
     "text": [
      "[2, 4, 6, 8, 10, 12, 14, 16, 18, 20, 22, 24, 26, 28, 30, 32, 34, 36, 38, 40, 42, 44, 46, 48, 50, 52, 54, 56, 58, 60, 62, 64, 66, 68, 70, 72, 74, 76, 78, 80, 82, 84, 86, 88, 90, 92, 94, 96, 98]\n"
     ]
    }
   ],
   "source": [
    "### to print even number using lc\n",
    "l=[i for i in range(1,100) if i%2==0]\n",
    "print(l)"
   ]
  },
  {
   "cell_type": "code",
   "execution_count": null,
   "metadata": {},
   "outputs": [],
   "source": [
    "### tasks:\n",
    "    - i/p:[89,90,67,45]-[90,89,67,45]\n",
    "    - o/p:second largest number-89"
   ]
  },
  {
   "cell_type": "code",
   "execution_count": null,
   "metadata": {},
   "outputs": [],
   "source": [
    "### unique elements\n",
    "    - i/p:[8,9,0,6,7,8,9,4,5,6,3]\n",
    "    - o/p:[8,9,0,6,7,4,5,3]"
   ]
  }
 ],
 "metadata": {
  "kernelspec": {
   "display_name": "Python 3",
   "language": "python",
   "name": "python3"
  },
  "language_info": {
   "codemirror_mode": {
    "name": "ipython",
    "version": 3
   },
   "file_extension": ".py",
   "mimetype": "text/x-python",
   "name": "python",
   "nbconvert_exporter": "python",
   "pygments_lexer": "ipython3",
   "version": "3.7.3"
  }
 },
 "nbformat": 4,
 "nbformat_minor": 2
}
