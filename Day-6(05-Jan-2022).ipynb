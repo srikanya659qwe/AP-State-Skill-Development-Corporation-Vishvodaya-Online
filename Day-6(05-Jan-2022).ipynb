{
 "cells": [
  {
   "cell_type": "markdown",
   "id": "d4f02fa9",
   "metadata": {},
   "source": [
    "### Arguments"
   ]
  },
  {
   "cell_type": "code",
   "execution_count": 1,
   "id": "b6567608",
   "metadata": {},
   "outputs": [
    {
     "data": {
      "text/plain": [
       "68"
      ]
     },
     "execution_count": 1,
     "metadata": {},
     "output_type": "execute_result"
    }
   ],
   "source": [
    "def addition(a,b):\n",
    "    return a+b\n",
    "addition(23,45)"
   ]
  },
  {
   "cell_type": "code",
   "execution_count": 2,
   "id": "8f1af66e",
   "metadata": {},
   "outputs": [
    {
     "ename": "TypeError",
     "evalue": "addition() takes 2 positional arguments but 3 were given",
     "output_type": "error",
     "traceback": [
      "\u001b[1;31m---------------------------------------------------------------------------\u001b[0m",
      "\u001b[1;31mTypeError\u001b[0m                                 Traceback (most recent call last)",
      "\u001b[1;32m<ipython-input-2-02b7d86b5f77>\u001b[0m in \u001b[0;36m<module>\u001b[1;34m\u001b[0m\n\u001b[1;32m----> 1\u001b[1;33m \u001b[0maddition\u001b[0m\u001b[1;33m(\u001b[0m\u001b[1;36m23\u001b[0m\u001b[1;33m,\u001b[0m\u001b[1;36m45\u001b[0m\u001b[1;33m,\u001b[0m\u001b[1;36m67\u001b[0m\u001b[1;33m)\u001b[0m\u001b[1;33m\u001b[0m\u001b[1;33m\u001b[0m\u001b[0m\n\u001b[0m",
      "\u001b[1;31mTypeError\u001b[0m: addition() takes 2 positional arguments but 3 were given"
     ]
    }
   ],
   "source": [
    "addition(23,45,67)"
   ]
  },
  {
   "cell_type": "markdown",
   "id": "eeb73178",
   "metadata": {},
   "source": [
    "### 1. Variable length arguments:\n",
    "        - By using * symbal we can develop the variable length arguments..\n",
    "        - Variable length arguments taking values as tuple format."
   ]
  },
  {
   "cell_type": "code",
   "execution_count": 10,
   "id": "6b2fecd0",
   "metadata": {},
   "outputs": [
    {
     "name": "stdout",
     "output_type": "stream",
     "text": [
      "10 (30, 4034) 20\n"
     ]
    }
   ],
   "source": [
    "def sample(a,c,*b):\n",
    "    print(a,b,c)\n",
    "sample(10,20,30,4034)"
   ]
  },
  {
   "cell_type": "markdown",
   "id": "3ebdc339",
   "metadata": {},
   "source": [
    "### keyword length arguments:\n",
    "        - By using ** symbal we can develop the keyword length arguments.\n",
    "        - It taking values as dictionary."
   ]
  },
  {
   "cell_type": "code",
   "execution_count": 11,
   "id": "d0f6550a",
   "metadata": {},
   "outputs": [
    {
     "name": "stdout",
     "output_type": "stream",
     "text": [
      "{'name': 'narmada', 'branch': 'ece', 'marks': 76}\n"
     ]
    }
   ],
   "source": [
    "def example(**k):\n",
    "    print(k)\n",
    "example(name=\"narmada\",branch=\"ece\",marks=76)"
   ]
  },
  {
   "cell_type": "code",
   "execution_count": 16,
   "id": "14e64c30",
   "metadata": {},
   "outputs": [
    {
     "name": "stdout",
     "output_type": "stream",
     "text": [
      "a value is: 23\n",
      "b value is: 45\n"
     ]
    }
   ],
   "source": [
    "# default and non-default arguments...\n",
    "def hello(a,b=10): # here b is default argument, a is non-default argument\n",
    "    print('a value is:',a)\n",
    "    print('b value is:',b)\n",
    "hello(23,45)"
   ]
  },
  {
   "cell_type": "markdown",
   "id": "75ec766d",
   "metadata": {},
   "source": [
    "### strings:\n",
    "            - It is collection of characters.\n",
    "            - It is character array.\n",
    "            - It is a group of sequence of characters.\n",
    "            - String index starts from 0 to size-1.\n",
    "            - By using single quotes ,double quotes.\n",
    "            - To read the mutlilines we can use tripple quotes."
   ]
  },
  {
   "cell_type": "code",
   "execution_count": 18,
   "id": "bc185f6d",
   "metadata": {},
   "outputs": [
    {
     "name": "stdout",
     "output_type": "stream",
     "text": [
      "apssdc\n",
      "-----------\n",
      "python workshop\n",
      "-------------\n",
      "vec college students\n",
      "from ece and eee\n",
      "civil branches\n"
     ]
    }
   ],
   "source": [
    "s1 = 'apssdc'\n",
    "s2 = \"python workshop\"\n",
    "s3 ='''vec college students\n",
    "from ece and eee\n",
    "civil branches'''\n",
    "print(s1)\n",
    "print('-----------')\n",
    "print(s2)\n",
    "print('-------------')\n",
    "print(s3)"
   ]
  },
  {
   "cell_type": "code",
   "execution_count": 19,
   "id": "4e6d0899",
   "metadata": {},
   "outputs": [
    {
     "name": "stdout",
     "output_type": "stream",
     "text": [
      "<class 'str'>\n"
     ]
    }
   ],
   "source": [
    "print(type(s1))"
   ]
  },
  {
   "cell_type": "code",
   "execution_count": 22,
   "id": "f109232a",
   "metadata": {},
   "outputs": [
    {
     "name": "stdout",
     "output_type": "stream",
     "text": [
      "welcome apssdc\n"
     ]
    }
   ],
   "source": [
    "# string concatenation is nothing but join the two strings=> '+'\n",
    "s2=\"welcome\"\n",
    "s3=\"apssdc\"\n",
    "print(s2+' '+s3)"
   ]
  },
  {
   "cell_type": "code",
   "execution_count": 25,
   "id": "c9c558f0",
   "metadata": {},
   "outputs": [
    {
     "name": "stdout",
     "output_type": "stream",
     "text": [
      "vecvecvecvec\n",
      "hellohellohellohellohello\n"
     ]
    }
   ],
   "source": [
    "# string repetetion=> '*'\n",
    "print('vec'*4)\n",
    "s =\"hello\"\n",
    "print(s*5)"
   ]
  },
  {
   "cell_type": "code",
   "execution_count": 30,
   "id": "7597e72a",
   "metadata": {},
   "outputs": [
    {
     "name": "stdout",
     "output_type": "stream",
     "text": [
      "True\n",
      "False\n"
     ]
    }
   ],
   "source": [
    "# membership operators..\n",
    "print('ap' in 'apssdc')\n",
    "print('zop' in 'apssdc')"
   ]
  },
  {
   "cell_type": "code",
   "execution_count": 34,
   "id": "e874e188",
   "metadata": {},
   "outputs": [
    {
     "name": "stdout",
     "output_type": "stream",
     "text": [
      "w e l c o m e   t o   a p s s d c "
     ]
    }
   ],
   "source": [
    "# iterate through the loop\n",
    "s = \"welcome to apssdc\"\n",
    "for i in s:\n",
    "    print(i,end=\" \")"
   ]
  },
  {
   "cell_type": "markdown",
   "id": "6820dfb2",
   "metadata": {},
   "source": [
    "#### indexing and slicing\n",
    "        - TO get the characters based on index position..\n",
    "        - To get the sequence of characters.\n",
    "        -> two types of indexing \n",
    "            - 1. forward indexing \n",
    "            - 2. backward indexing"
   ]
  },
  {
   "cell_type": "code",
   "execution_count": 42,
   "id": "1221d116",
   "metadata": {},
   "outputs": [
    {
     "name": "stdout",
     "output_type": "stream",
     "text": [
      "w\n",
      "n\n",
      "o\n",
      "y\n",
      "e\n",
      "h\n",
      "o\n"
     ]
    }
   ],
   "source": [
    "s = 'welcome to python'\n",
    "# indexing\n",
    "print(s[0])# to get the first character\n",
    "print(s[-1])# To get the last character\n",
    "print(s[4]) # o character\n",
    "print(s[12]) # y\n",
    "print(s[6]) # e\n",
    "print(s[-3]) # h\n",
    "print(s[-2])"
   ]
  },
  {
   "cell_type": "code",
   "execution_count": 47,
   "id": "db9d41f9",
   "metadata": {},
   "outputs": [
    {
     "name": "stdout",
     "output_type": "stream",
     "text": [
      "welcome to python\n",
      "come\n",
      "elcome to python\n",
      "wloet yhn\n",
      "nohtyp ot emoclew\n"
     ]
    }
   ],
   "source": [
    "# slicing\n",
    "print(s)\n",
    "print(s[3:7])# come\n",
    "print(s[1:])\n",
    "# To get the alternative charcters from string\n",
    "print(s[::2])\n",
    "# TO print the reverse in string..\n",
    "print(s[::-1])"
   ]
  },
  {
   "cell_type": "markdown",
   "id": "6e034271",
   "metadata": {},
   "source": [
    "### string methods"
   ]
  },
  {
   "cell_type": "code",
   "execution_count": 49,
   "id": "4e5abc5a",
   "metadata": {},
   "outputs": [
    {
     "name": "stdout",
     "output_type": "stream",
     "text": [
      "Aython programming\n"
     ]
    }
   ],
   "source": [
    "s1 = \"aython programming\"\n",
    "print(s1.capitalize()) # To change the first character into uppercase."
   ]
  },
  {
   "cell_type": "code",
   "execution_count": 50,
   "id": "89c10781",
   "metadata": {},
   "outputs": [
    {
     "name": "stdout",
     "output_type": "stream",
     "text": [
      "apssdc\n"
     ]
    }
   ],
   "source": [
    "s1=\"APSSDC\"\n",
    "print(s1.lower())# To convert the all letters into lowercase.."
   ]
  },
  {
   "cell_type": "code",
   "execution_count": 51,
   "id": "b9a5b860",
   "metadata": {},
   "outputs": [
    {
     "name": "stdout",
     "output_type": "stream",
     "text": [
      "WORKSHOP\n"
     ]
    }
   ],
   "source": [
    "s2=\"workshop\"\n",
    "print(s2.upper())# To convert to uppercase"
   ]
  },
  {
   "cell_type": "code",
   "execution_count": 52,
   "id": "da30d346",
   "metadata": {},
   "outputs": [
    {
     "name": "stdout",
     "output_type": "stream",
     "text": [
      "WELCOME to vec COLLEGE students\n"
     ]
    }
   ],
   "source": [
    "s1 =\"welcome TO VEC college STUDENTS\"\n",
    "print(s1.swapcase())"
   ]
  },
  {
   "cell_type": "code",
   "execution_count": 53,
   "id": "ea804b7f",
   "metadata": {},
   "outputs": [
    {
     "name": "stdout",
     "output_type": "stream",
     "text": [
      "Welcome To Vec College Students\n"
     ]
    }
   ],
   "source": [
    "s=\"apssdc welcome to python\"\n",
    "print(s1.title())"
   ]
  },
  {
   "cell_type": "code",
   "execution_count": 57,
   "id": "47efda15",
   "metadata": {},
   "outputs": [
    {
     "name": "stdout",
     "output_type": "stream",
     "text": [
      "True\n"
     ]
    }
   ],
   "source": [
    "s2=\"apssdc welcoma\"\n",
    "print(s2.islower())"
   ]
  },
  {
   "cell_type": "code",
   "execution_count": 58,
   "id": "b568f7bd",
   "metadata": {},
   "outputs": [
    {
     "name": "stdout",
     "output_type": "stream",
     "text": [
      "True\n"
     ]
    }
   ],
   "source": [
    "s3=\"APSSDC\"\n",
    "print(s3.isupper())"
   ]
  },
  {
   "cell_type": "code",
   "execution_count": 61,
   "id": "020cbdc2",
   "metadata": {},
   "outputs": [
    {
     "name": "stdout",
     "output_type": "stream",
     "text": [
      "welcome TO VEC college STUDENTS\n",
      "w$e$l$c$o$m$e$ $T$O$ $V$E$C$ $c$o$l$l$e$g$e$ $S$T$U$D$E$N$T$S\n"
     ]
    }
   ],
   "source": [
    "print(s1)\n",
    "print('$'.join(s1))"
   ]
  },
  {
   "cell_type": "code",
   "execution_count": 64,
   "id": "d9df38ad",
   "metadata": {},
   "outputs": [
    {
     "name": "stdout",
     "output_type": "stream",
     "text": [
      "welcome TO VEC college STUDENTS\n",
      "False\n"
     ]
    }
   ],
   "source": [
    "print(s1)\n",
    "print(s1.istitle())"
   ]
  },
  {
   "cell_type": "code",
   "execution_count": 66,
   "id": "05fed71c",
   "metadata": {},
   "outputs": [
    {
     "name": "stdout",
     "output_type": "stream",
     "text": [
      "welcome TO VEC college STUDENTS\n",
      "['welcome', 'TO', 'VEC', 'college', 'STUDENTS']\n"
     ]
    }
   ],
   "source": [
    "print(s1)\n",
    "print(s1.split())# in the format of list"
   ]
  },
  {
   "cell_type": "code",
   "execution_count": 69,
   "id": "e7cabd0c",
   "metadata": {},
   "outputs": [
    {
     "name": "stdout",
     "output_type": "stream",
     "text": [
      "welcome to vec\n",
      "welcome to vec     \n",
      "    welcome to vec\n"
     ]
    }
   ],
   "source": [
    "s3='    welcome to vec     '\n",
    "print(s3.strip())# To remove the left and right side spaces..\n",
    "print(s3.lstrip())# to remove the left side space\n",
    "print(s3.rstrip())# to remove the rigth side space"
   ]
  },
  {
   "cell_type": "code",
   "execution_count": 72,
   "id": "2ab54e56",
   "metadata": {},
   "outputs": [
    {
     "name": "stdout",
     "output_type": "stream",
     "text": [
      "welcome TO VEC college STUDENTS\n",
      "whlcomh TO VEC collhgh STUDENTS\n",
      "welcome TO sdc college STUDENTS\n"
     ]
    }
   ],
   "source": [
    "# replace(old_string,new_string)\n",
    "print(s1)\n",
    "print(s1.replace('e','h'))\n",
    "print(s1.replace('VEC','sdc'))"
   ]
  },
  {
   "cell_type": "code",
   "execution_count": 75,
   "id": "0a56981e",
   "metadata": {},
   "outputs": [
    {
     "name": "stdout",
     "output_type": "stream",
     "text": [
      "welcome TO VEC college STUDENTS\n",
      "3\n",
      "15\n"
     ]
    }
   ],
   "source": [
    "# to get the index position..\n",
    "print(s1)\n",
    "print(s1.index('c'))\n",
    "print(s1.rindex('c'))"
   ]
  },
  {
   "cell_type": "code",
   "execution_count": 77,
   "id": "09d68592",
   "metadata": {},
   "outputs": [
    {
     "name": "stdout",
     "output_type": "stream",
     "text": [
      "False\n"
     ]
    }
   ],
   "source": [
    "s2=\"2021as\"\n",
    "print(s2.isdigit())"
   ]
  },
  {
   "cell_type": "code",
   "execution_count": 78,
   "id": "0602f534",
   "metadata": {},
   "outputs": [
    {
     "name": "stdout",
     "output_type": "stream",
     "text": [
      "True\n"
     ]
    }
   ],
   "source": [
    "s4=\"abc123\"\n",
    "print(s4.isalnum())"
   ]
  },
  {
   "cell_type": "code",
   "execution_count": 79,
   "id": "73c0c8d3",
   "metadata": {},
   "outputs": [
    {
     "name": "stdout",
     "output_type": "stream",
     "text": [
      "True\n"
     ]
    }
   ],
   "source": [
    "s6=\"  \"\n",
    "print(s6.isspace())"
   ]
  },
  {
   "cell_type": "code",
   "execution_count": 83,
   "id": "d5859686",
   "metadata": {},
   "outputs": [
    {
     "name": "stdout",
     "output_type": "stream",
     "text": [
      "True\n",
      "False\n"
     ]
    }
   ],
   "source": [
    "#startswith and endswith\n",
    "s8=\"python\"\n",
    "print(s8.startswith('p'))\n",
    "print(s8.endswith('z'))"
   ]
  },
  {
   "cell_type": "code",
   "execution_count": 84,
   "id": "d3016292",
   "metadata": {},
   "outputs": [
    {
     "name": "stdout",
     "output_type": "stream",
     "text": [
      "2\n"
     ]
    }
   ],
   "source": [
    "s1=\"apssdc ap\"\n",
    "# To get the number of occurences..\n",
    "print(s1.count('a'))"
   ]
  },
  {
   "cell_type": "code",
   "execution_count": 86,
   "id": "da68545c",
   "metadata": {},
   "outputs": [
    {
     "name": "stdout",
     "output_type": "stream",
     "text": [
      "apssdc ap\n",
      "9\n"
     ]
    }
   ],
   "source": [
    "# To find the lenth of the string\n",
    "print(s1)\n",
    "print(len(s1))"
   ]
  },
  {
   "cell_type": "code",
   "execution_count": 87,
   "id": "859af17e",
   "metadata": {},
   "outputs": [
    {
     "name": "stdout",
     "output_type": "stream",
     "text": [
      "s\n"
     ]
    }
   ],
   "source": [
    "print(max(s1))"
   ]
  },
  {
   "cell_type": "code",
   "execution_count": 90,
   "id": "78830648",
   "metadata": {},
   "outputs": [
    {
     "name": "stdout",
     "output_type": "stream",
     "text": [
      "a\n"
     ]
    }
   ],
   "source": [
    "s=\"abc\"\n",
    "print(min(s))"
   ]
  },
  {
   "cell_type": "code",
   "execution_count": 94,
   "id": "00c775e4",
   "metadata": {},
   "outputs": [
    {
     "name": "stdout",
     "output_type": "stream",
     "text": [
      "Enter string!.. sdc\n",
      "  ---> 32\n",
      "s ---> 115\n",
      "d ---> 100\n",
      "c ---> 99\n"
     ]
    }
   ],
   "source": [
    "# TO read the string to print ascii of a character..\n",
    "st = input(\"Enter string!..\")\n",
    "for i in st:\n",
    "    print(i,'--->',ord(i))"
   ]
  },
  {
   "cell_type": "code",
   "execution_count": 96,
   "id": "ce8d91c4",
   "metadata": {},
   "outputs": [
    {
     "name": "stdout",
     "output_type": "stream",
     "text": [
      "Enter string!..apssdc @123 welcom#\n",
      "alphabets count is  12\n",
      "digits count is  3\n",
      "spaces count is  2\n",
      "special character count is  2\n"
     ]
    }
   ],
   "source": [
    "# TO read string and find the number alphabets,digits,spacess,special character?\n",
    "st2 = input(\"Enter string!..\")\n",
    "ac=dc=sp1=spe1=0\n",
    "for i in st2:\n",
    "    if i.isalpha():\n",
    "        ac = ac+1\n",
    "    elif i.isdigit():\n",
    "        dc = dc+1\n",
    "    elif i.isspace():\n",
    "        sp1 = sp1+1\n",
    "    else:\n",
    "        spe1 = spe1+1\n",
    "print(\"alphabets count is \",ac)\n",
    "print('digits count is ',dc)\n",
    "print(\"spaces count is \",sp1)\n",
    "print(\"special character count is \",spe1)"
   ]
  },
  {
   "cell_type": "code",
   "execution_count": 99,
   "id": "66fe6479",
   "metadata": {},
   "outputs": [
    {
     "name": "stdout",
     "output_type": "stream",
     "text": [
      "narmada\n",
      "nethra\n",
      "nandu\n"
     ]
    }
   ],
   "source": [
    "s1 =\"narmada aadyan ganesh aaryan nethra nandu krishna\".split()\n",
    "# To print only names starts with 'n' letter...\n",
    "for i in s1:\n",
    "    if i.startswith('n'):\n",
    "        print(i)"
   ]
  },
  {
   "cell_type": "code",
   "execution_count": 100,
   "id": "987c070f",
   "metadata": {},
   "outputs": [
    {
     "name": "stdout",
     "output_type": "stream",
     "text": [
      "narmada\n",
      "nethra\n",
      "krishna\n"
     ]
    }
   ],
   "source": [
    "s1 =\"narmada aadyan ganesh aaryan nethra nandu krishna\".split()\n",
    "# To print only names endswith 'a'\n",
    "for i in s1:\n",
    "    if i.endswith('a'):\n",
    "        print(i)"
   ]
  },
  {
   "cell_type": "code",
   "execution_count": 101,
   "id": "6847b68c",
   "metadata": {},
   "outputs": [
    {
     "name": "stdout",
     "output_type": "stream",
     "text": [
      "['narmada', 'aadyan', 'ganesh', 'aaryan', 'nethra', 'nandu', 'krishna']\n"
     ]
    }
   ],
   "source": [
    "print(s1)\n",
    "# To print the number of spaces count?"
   ]
  },
  {
   "cell_type": "code",
   "execution_count": 102,
   "id": "8da9e039",
   "metadata": {},
   "outputs": [
    {
     "name": "stdout",
     "output_type": "stream",
     "text": [
      "6\n"
     ]
    }
   ],
   "source": [
    "s1 =\"narmada aadyan ganesh aaryan nethra nandu krishna\"\n",
    "print(s1.count(' '))"
   ]
  },
  {
   "cell_type": "code",
   "execution_count": null,
   "id": "aff69462",
   "metadata": {},
   "outputs": [],
   "source": []
  }
 ],
 "metadata": {
  "kernelspec": {
   "display_name": "Python 3",
   "language": "python",
   "name": "python3"
  },
  "language_info": {
   "codemirror_mode": {
    "name": "ipython",
    "version": 3
   },
   "file_extension": ".py",
   "mimetype": "text/x-python",
   "name": "python",
   "nbconvert_exporter": "python",
   "pygments_lexer": "ipython3",
   "version": "3.8.8"
  }
 },
 "nbformat": 4,
 "nbformat_minor": 5
}
