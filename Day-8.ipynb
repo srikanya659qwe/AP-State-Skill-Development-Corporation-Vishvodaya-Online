{
 "cells": [
  {
   "cell_type": "markdown",
   "metadata": {},
   "source": [
    "#### Day Objectives:\n",
    "    - Tuple\n",
    "    - Dictionary\n",
    "    - sets"
   ]
  },
  {
   "cell_type": "code",
   "execution_count": 7,
   "metadata": {},
   "outputs": [
    {
     "name": "stdout",
     "output_type": "stream",
     "text": [
      "[10, 30, 50, 70]\n",
      "<class 'list'>\n",
      "70\n",
      "10\n",
      "160\n",
      "4\n",
      "40\n"
     ]
    }
   ],
   "source": [
    "## mathematical fuctions(sum,max,min,len)\n",
    "l=[10,30,50,70]\n",
    "print(l)\n",
    "print(type(l))\n",
    "print(max(l))\n",
    "print(min(l))\n",
    "print(sum(l))\n",
    "print(len(l))\n",
    "### avg-total sum/total number\n",
    "print(sum(l)//len(l))"
   ]
  },
  {
   "cell_type": "markdown",
   "metadata": {},
   "source": [
    "## tuple:\n",
    "    - it is also one of the python data structure\n",
    "    - it is immutable(cant changeble)\n",
    "    - it is represented by parenthesis \"()\""
   ]
  },
  {
   "cell_type": "code",
   "execution_count": 9,
   "metadata": {},
   "outputs": [
    {
     "name": "stdout",
     "output_type": "stream",
     "text": [
      "()\n",
      "<class 'tuple'>\n"
     ]
    }
   ],
   "source": [
    "### to create the empty tuple\n",
    "t=()\n",
    "print(t)\n",
    "print(type(t))"
   ]
  },
  {
   "cell_type": "code",
   "execution_count": 14,
   "metadata": {},
   "outputs": [
    {
     "name": "stdout",
     "output_type": "stream",
     "text": [
      "(45, 78, 90, 67, 45)\n",
      "<class 'tuple'>\n"
     ]
    }
   ],
   "source": [
    "## to create the single value tuple\n",
    "t=(45,78,90,67,45)\n",
    "print(t)\n",
    "print(type(t))\n"
   ]
  },
  {
   "cell_type": "code",
   "execution_count": 17,
   "metadata": {},
   "outputs": [
    {
     "name": "stdout",
     "output_type": "stream",
     "text": [
      "(45, 78, 90, 67, 45)\n",
      "45\n",
      "90\n"
     ]
    }
   ],
   "source": [
    "### accessing the elements from tuple\n",
    "print(t)\n",
    "print(t[4])\n",
    "print(t[2])"
   ]
  },
  {
   "cell_type": "code",
   "execution_count": 20,
   "metadata": {},
   "outputs": [
    {
     "name": "stdout",
     "output_type": "stream",
     "text": [
      "(45, 78, 90, 67, 45)\n",
      "(45, 78, 90)\n",
      "(45, 67, 90, 78, 45)\n"
     ]
    }
   ],
   "source": [
    "### slicing\n",
    "print(t[:])\n",
    "print(t[:3])\n",
    "print(t[::-1])"
   ]
  },
  {
   "cell_type": "code",
   "execution_count": 27,
   "metadata": {},
   "outputs": [
    {
     "name": "stdout",
     "output_type": "stream",
     "text": [
      "(45, 78, 90, 67, 45)\n",
      "[45, 78, 90, 67, 45]\n",
      "<class 'list'>\n",
      "[45, 200, 90, 67, 45]\n",
      "(45, 200, 90, 67, 45)\n",
      "<class 'tuple'>\n"
     ]
    }
   ],
   "source": [
    "### To change data structure type\n",
    "print(t)\n",
    "t1=list(t)\n",
    "print(t1)\n",
    "print(type(t1))\n",
    "t1[1]=200\n",
    "print(t1)\n",
    "print(tuple(t1))\n",
    "t2=tuple(t1)\n",
    "print(type(t2))"
   ]
  },
  {
   "cell_type": "code",
   "execution_count": 29,
   "metadata": {
    "collapsed": true
   },
   "outputs": [
    {
     "name": "stdout",
     "output_type": "stream",
     "text": [
      "['__add__', '__class__', '__contains__', '__delattr__', '__delitem__', '__dir__', '__doc__', '__eq__', '__format__', '__ge__', '__getattribute__', '__getitem__', '__gt__', '__hash__', '__iadd__', '__imul__', '__init__', '__init_subclass__', '__iter__', '__le__', '__len__', '__lt__', '__mul__', '__ne__', '__new__', '__reduce__', '__reduce_ex__', '__repr__', '__reversed__', '__rmul__', '__setattr__', '__setitem__', '__sizeof__', '__str__', '__subclasshook__', 'append', 'clear', 'copy', 'count', 'extend', 'index', 'insert', 'pop', 'remove', 'reverse', 'sort']\n"
     ]
    }
   ],
   "source": [
    "## tuple methods\n",
    "print(dir(list))"
   ]
  },
  {
   "cell_type": "code",
   "execution_count": 30,
   "metadata": {},
   "outputs": [
    {
     "name": "stdout",
     "output_type": "stream",
     "text": [
      "['__add__', '__class__', '__contains__', '__delattr__', '__dir__', '__doc__', '__eq__', '__format__', '__ge__', '__getattribute__', '__getitem__', '__getnewargs__', '__gt__', '__hash__', '__init__', '__init_subclass__', '__iter__', '__le__', '__len__', '__lt__', '__mul__', '__ne__', '__new__', '__reduce__', '__reduce_ex__', '__repr__', '__rmul__', '__setattr__', '__sizeof__', '__str__', '__subclasshook__', 'count', 'index']\n"
     ]
    }
   ],
   "source": [
    "print(dir(tuple))"
   ]
  },
  {
   "cell_type": "code",
   "execution_count": null,
   "metadata": {},
   "outputs": [],
   "source": [
    "## index():\n",
    "    - it returns index position of the particular element\n",
    "    - syntax: tuple_name.index()"
   ]
  },
  {
   "cell_type": "code",
   "execution_count": 31,
   "metadata": {},
   "outputs": [
    {
     "data": {
      "text/plain": [
       "(45, 200, 90, 67, 45)"
      ]
     },
     "execution_count": 31,
     "metadata": {},
     "output_type": "execute_result"
    }
   ],
   "source": [
    "t2"
   ]
  },
  {
   "cell_type": "code",
   "execution_count": 32,
   "metadata": {},
   "outputs": [
    {
     "data": {
      "text/plain": [
       "1"
      ]
     },
     "execution_count": 32,
     "metadata": {},
     "output_type": "execute_result"
    }
   ],
   "source": [
    "t2.index(200)"
   ]
  },
  {
   "cell_type": "code",
   "execution_count": 33,
   "metadata": {},
   "outputs": [
    {
     "data": {
      "text/plain": [
       "3"
      ]
     },
     "execution_count": 33,
     "metadata": {},
     "output_type": "execute_result"
    }
   ],
   "source": [
    "t2.index(67)"
   ]
  },
  {
   "cell_type": "code",
   "execution_count": null,
   "metadata": {},
   "outputs": [],
   "source": [
    "### count():\n",
    "    - no of occurances\n",
    "    - syntax: tuple_name.count(element)"
   ]
  },
  {
   "cell_type": "code",
   "execution_count": 34,
   "metadata": {},
   "outputs": [
    {
     "data": {
      "text/plain": [
       "1"
      ]
     },
     "execution_count": 34,
     "metadata": {},
     "output_type": "execute_result"
    }
   ],
   "source": [
    "t2.count(67)"
   ]
  },
  {
   "cell_type": "markdown",
   "metadata": {},
   "source": [
    "### Dictionary:\n",
    "    - it is group of key and value pair\n",
    "    - in dictionary keys are unique\n",
    "    - it is reresented as curly brackets \"{}\"\n",
    "    - each key and value(item)separated with comma(,)\n",
    "    - accessing dictionary values by using key names\n",
    "    - it is mutable(changeble)"
   ]
  },
  {
   "cell_type": "code",
   "execution_count": 36,
   "metadata": {},
   "outputs": [
    {
     "name": "stdout",
     "output_type": "stream",
     "text": [
      "{}\n",
      "<class 'dict'>\n"
     ]
    }
   ],
   "source": [
    "### creation of empty dic\n",
    "d={}\n",
    "print(d)\n",
    "print(type(d))\n"
   ]
  },
  {
   "cell_type": "code",
   "execution_count": 37,
   "metadata": {},
   "outputs": [
    {
     "name": "stdout",
     "output_type": "stream",
     "text": [
      "{'k1': 200, 2: 500, 'k2': 'siri', 5: 'python'}\n"
     ]
    }
   ],
   "source": [
    "### keys,values--->{key:value}\n",
    "d={'k1':200,2:500,'k2':'siri',5:'python'}\n",
    "print(d)"
   ]
  },
  {
   "cell_type": "code",
   "execution_count": 39,
   "metadata": {},
   "outputs": [
    {
     "data": {
      "text/plain": [
       "dict"
      ]
     },
     "execution_count": 39,
     "metadata": {},
     "output_type": "execute_result"
    }
   ],
   "source": [
    "type(d)"
   ]
  },
  {
   "cell_type": "code",
   "execution_count": 42,
   "metadata": {},
   "outputs": [
    {
     "name": "stdout",
     "output_type": "stream",
     "text": [
      "{'a': 100, 'name': 'naveen', 'branch': 'cse', 'b': 89.89}\n",
      "<class 'dict'>\n"
     ]
    }
   ],
   "source": [
    "d1={'a':100,'name':'naveen','branch':'cse','b':89.89}\n",
    "print(d1)\n",
    "print(type(d1))"
   ]
  },
  {
   "cell_type": "code",
   "execution_count": 45,
   "metadata": {},
   "outputs": [
    {
     "name": "stdout",
     "output_type": "stream",
     "text": [
      "naveen\n",
      "cse\n",
      "89.89\n"
     ]
    }
   ],
   "source": [
    "### accessing the dictionary values using key names\n",
    "print(d1['name'])\n",
    "print(d1['branch'])\n",
    "print(d1['b'])"
   ]
  },
  {
   "cell_type": "code",
   "execution_count": 47,
   "metadata": {},
   "outputs": [
    {
     "name": "stdout",
     "output_type": "stream",
     "text": [
      "{'a': 100, 'name': 'naveen', 'branch': 'cse', 'b': 89.89}\n",
      "{'a': 100, 'name': 'naveen', 'branch': 'ECE', 'b': 89.89}\n"
     ]
    }
   ],
   "source": [
    "###update the dict values\n",
    "print(d1)\n",
    "d1['branch']='ECE'\n",
    "print(d1)"
   ]
  },
  {
   "cell_type": "code",
   "execution_count": 48,
   "metadata": {},
   "outputs": [
    {
     "name": "stdout",
     "output_type": "stream",
     "text": [
      "['__class__', '__contains__', '__delattr__', '__delitem__', '__dir__', '__doc__', '__eq__', '__format__', '__ge__', '__getattribute__', '__getitem__', '__gt__', '__hash__', '__init__', '__init_subclass__', '__iter__', '__le__', '__len__', '__lt__', '__ne__', '__new__', '__reduce__', '__reduce_ex__', '__repr__', '__setattr__', '__setitem__', '__sizeof__', '__str__', '__subclasshook__', 'clear', 'copy', 'fromkeys', 'get', 'items', 'keys', 'pop', 'popitem', 'setdefault', 'update', 'values']\n"
     ]
    }
   ],
   "source": [
    "### Dict Methods\n",
    "print(dir(dict))\n"
   ]
  },
  {
   "cell_type": "code",
   "execution_count": null,
   "metadata": {},
   "outputs": [],
   "source": [
    "### keys():\n",
    "    - to get the only keys names in the formate of list\n",
    "    - dict_name.keys()"
   ]
  },
  {
   "cell_type": "code",
   "execution_count": 50,
   "metadata": {},
   "outputs": [
    {
     "name": "stdout",
     "output_type": "stream",
     "text": [
      "{'a': 100, 'name': 'naveen', 'branch': 'ECE', 'b': 89.89}\n",
      "dict_keys(['a', 'name', 'branch', 'b'])\n"
     ]
    }
   ],
   "source": [
    "print(d1)\n",
    "print(d1.keys())"
   ]
  },
  {
   "cell_type": "code",
   "execution_count": null,
   "metadata": {},
   "outputs": [],
   "source": [
    "### values():\n",
    "    - to get the dctionaty values in the formate of list\n",
    "    - dict_name.values()"
   ]
  },
  {
   "cell_type": "code",
   "execution_count": 52,
   "metadata": {},
   "outputs": [
    {
     "name": "stdout",
     "output_type": "stream",
     "text": [
      "{'a': 100, 'name': 'naveen', 'branch': 'ECE', 'b': 89.89}\n",
      "dict_values([100, 'naveen', 'ECE', 89.89])\n"
     ]
    }
   ],
   "source": [
    "print(d1)\n",
    "print(d1.values())"
   ]
  },
  {
   "cell_type": "markdown",
   "metadata": {},
   "source": [
    "### items():\n",
    "    - to get the dictionary items(keys,values)--->tuple\n",
    "    - dict_name.items()"
   ]
  },
  {
   "cell_type": "code",
   "execution_count": 54,
   "metadata": {},
   "outputs": [
    {
     "name": "stdout",
     "output_type": "stream",
     "text": [
      "{'a': 100, 'name': 'naveen', 'branch': 'ECE', 'b': 89.89}\n",
      "dict_items([('a', 100), ('name', 'naveen'), ('branch', 'ECE'), ('b', 89.89)])\n"
     ]
    }
   ],
   "source": [
    "print(d1)\n",
    "print(d1.items())"
   ]
  },
  {
   "cell_type": "code",
   "execution_count": null,
   "metadata": {},
   "outputs": [],
   "source": [
    "### copy():\n",
    "    - to copy data from one dict to another dict\n",
    "    - dict_name.copy()"
   ]
  },
  {
   "cell_type": "code",
   "execution_count": 57,
   "metadata": {},
   "outputs": [
    {
     "name": "stdout",
     "output_type": "stream",
     "text": [
      "{'a': 100, 'name': 'naveen', 'branch': 'ECE', 'b': 89.89}\n",
      "{'a': 100, 'name': 'naveen', 'branch': 'ECE', 'b': 89.89}\n",
      "<class 'dict'>\n"
     ]
    }
   ],
   "source": [
    "print(d1)\n",
    "d2=d1.copy()\n",
    "print(d2)\n",
    "print(type(d2))"
   ]
  },
  {
   "cell_type": "code",
   "execution_count": null,
   "metadata": {},
   "outputs": [],
   "source": [
    "### get():\n",
    "    - to get dictionary values based on particular key\n",
    "    - dict_name.get(key_name)"
   ]
  },
  {
   "cell_type": "code",
   "execution_count": 61,
   "metadata": {},
   "outputs": [
    {
     "name": "stdout",
     "output_type": "stream",
     "text": [
      "{'a': 100, 'name': 'naveen', 'branch': 'ECE', 'b': 89.89}\n",
      "naveen\n",
      "89.89\n",
      "100\n"
     ]
    }
   ],
   "source": [
    "print(d1)\n",
    "print(d1.get('name'))\n",
    "print(d1.get('b'))\n",
    "print(d1.get('a'))\n"
   ]
  },
  {
   "cell_type": "markdown",
   "metadata": {},
   "source": [
    "### set default():\n",
    "    - to add the new item to end of the dict\n",
    "    - dict_name.setdefault(keyname,value)"
   ]
  },
  {
   "cell_type": "code",
   "execution_count": 63,
   "metadata": {},
   "outputs": [
    {
     "name": "stdout",
     "output_type": "stream",
     "text": [
      "{'a': 100, 'name': 'naveen', 'branch': 'ECE', 'b': 89.89}\n",
      "236\n",
      "{'a': 100, 'name': 'naveen', 'branch': 'ECE', 'b': 89.89, 'rollnum': 236}\n"
     ]
    }
   ],
   "source": [
    "print(d1)\n",
    "print(d1.setdefault('rollnum',236))\n",
    "print(d1)"
   ]
  },
  {
   "cell_type": "code",
   "execution_count": null,
   "metadata": {},
   "outputs": [],
   "source": [
    "## update():\n",
    "    - to updte the any existing value in a dict\n",
    "    - dict_name.update({keyname:value})"
   ]
  },
  {
   "cell_type": "code",
   "execution_count": 66,
   "metadata": {},
   "outputs": [
    {
     "name": "stdout",
     "output_type": "stream",
     "text": [
      "{'a': 100, 'name': 'siri', 'branch': 'ECE', 'b': 89.89, 'rollnum': 236}\n",
      "None\n",
      "{'a': 100, 'name': 'siri', 'branch': 'ECE', 'b': 89.89, 'rollnum': 236}\n",
      "None\n",
      "{'a': 100, 'name': 'siri', 'branch': 'CIVIL', 'b': 89.89, 'rollnum': 236}\n"
     ]
    }
   ],
   "source": [
    "print(d1)\n",
    "print(d1.update({'name':'siri'}))\n",
    "print(d1)\n",
    "print(d1.update({'branch':'CIVIL'}))\n",
    "print(d1)"
   ]
  },
  {
   "cell_type": "code",
   "execution_count": null,
   "metadata": {},
   "outputs": [],
   "source": [
    "### pop():\n",
    "    - to delete an item from the dict using keyname\n",
    "    - dict_name.pop(keyname)"
   ]
  },
  {
   "cell_type": "code",
   "execution_count": 72,
   "metadata": {
    "collapsed": true
   },
   "outputs": [
    {
     "name": "stdout",
     "output_type": "stream",
     "text": [
      "{'a': 100, 'name': 'siri', 'branch': 'CIVIL', 'rollnum': 236}\n"
     ]
    },
    {
     "ename": "KeyError",
     "evalue": "'b'",
     "output_type": "error",
     "traceback": [
      "\u001b[1;31m---------------------------------------------------------------------------\u001b[0m",
      "\u001b[1;31mKeyError\u001b[0m                                  Traceback (most recent call last)",
      "\u001b[1;32m<ipython-input-72-114a6c5275dc>\u001b[0m in \u001b[0;36m<module>\u001b[1;34m\u001b[0m\n\u001b[0;32m      1\u001b[0m \u001b[0mprint\u001b[0m\u001b[1;33m(\u001b[0m\u001b[0md1\u001b[0m\u001b[1;33m)\u001b[0m\u001b[1;33m\u001b[0m\u001b[1;33m\u001b[0m\u001b[0m\n\u001b[1;32m----> 2\u001b[1;33m \u001b[0mprint\u001b[0m\u001b[1;33m(\u001b[0m\u001b[0md1\u001b[0m\u001b[1;33m.\u001b[0m\u001b[0mpop\u001b[0m\u001b[1;33m(\u001b[0m\u001b[1;34m'b'\u001b[0m\u001b[1;33m)\u001b[0m\u001b[1;33m)\u001b[0m\u001b[1;33m\u001b[0m\u001b[1;33m\u001b[0m\u001b[0m\n\u001b[0m",
      "\u001b[1;31mKeyError\u001b[0m: 'b'"
     ]
    }
   ],
   "source": [
    "print(d1)\n",
    "print(d1.pop('b'))\n"
   ]
  },
  {
   "cell_type": "code",
   "execution_count": 71,
   "metadata": {},
   "outputs": [
    {
     "name": "stdout",
     "output_type": "stream",
     "text": [
      "{'a': 100, 'name': 'siri', 'branch': 'CIVIL', 'rollnum': 236}\n"
     ]
    }
   ],
   "source": [
    "print(d1)"
   ]
  },
  {
   "cell_type": "code",
   "execution_count": null,
   "metadata": {},
   "outputs": [],
   "source": []
  }
 ],
 "metadata": {
  "kernelspec": {
   "display_name": "Python 3",
   "language": "python",
   "name": "python3"
  },
  "language_info": {
   "codemirror_mode": {
    "name": "ipython",
    "version": 3
   },
   "file_extension": ".py",
   "mimetype": "text/x-python",
   "name": "python",
   "nbconvert_exporter": "python",
   "pygments_lexer": "ipython3",
   "version": "3.7.3"
  }
 },
 "nbformat": 4,
 "nbformat_minor": 2
}
