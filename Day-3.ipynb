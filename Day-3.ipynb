{
 "cells": [
  {
   "cell_type": "markdown",
   "metadata": {},
   "source": [
    "### Day Objectives:\n",
    "    - input methods\n",
    "        - static input-userdefined values\n",
    "        - dynamic input - we can change input data\n",
    "                - int-->int(intput())\n",
    "                - float\n",
    "                - str\n",
    "    - keywords\n",
    "    - comments\n",
    "    - operators in python"
   ]
  },
  {
   "cell_type": "code",
   "execution_count": 2,
   "metadata": {},
   "outputs": [
    {
     "name": "stdout",
     "output_type": "stream",
     "text": [
      "45\n"
     ]
    },
    {
     "data": {
      "text/plain": [
       "int"
      ]
     },
     "execution_count": 2,
     "metadata": {},
     "output_type": "execute_result"
    }
   ],
   "source": [
    "### static input\n",
    "x=45\n",
    "print(x)\n",
    "type(x)"
   ]
  },
  {
   "cell_type": "code",
   "execution_count": 3,
   "metadata": {},
   "outputs": [
    {
     "name": "stdout",
     "output_type": "stream",
     "text": [
      "Enter your value89\n",
      "89\n"
     ]
    }
   ],
   "source": [
    "### dynamic input method-->int\n",
    "x=int(input(\"Enter your value\"))\n",
    "print(x)"
   ]
  },
  {
   "cell_type": "code",
   "execution_count": 4,
   "metadata": {},
   "outputs": [
    {
     "name": "stdout",
     "output_type": "stream",
     "text": [
      "67\n",
      "67\n"
     ]
    }
   ],
   "source": [
    "x=int(input())\n",
    "print(x)"
   ]
  },
  {
   "cell_type": "code",
   "execution_count": 7,
   "metadata": {},
   "outputs": [
    {
     "name": "stdout",
     "output_type": "stream",
     "text": [
      "Enter your value here:90\n",
      "90.0\n"
     ]
    }
   ],
   "source": [
    "### float\n",
    "y=float(input(\"Enter your value here:\"))\n",
    "print(y)"
   ]
  },
  {
   "cell_type": "code",
   "execution_count": 8,
   "metadata": {},
   "outputs": [
    {
     "name": "stdout",
     "output_type": "stream",
     "text": [
      "Enter your stringpython\n",
      "python\n"
     ]
    }
   ],
   "source": [
    "## str\n",
    "z=input(\"Enter your string\")\n",
    "print(z)"
   ]
  },
  {
   "cell_type": "code",
   "execution_count": 14,
   "metadata": {},
   "outputs": [
    {
     "name": "stdout",
     "output_type": "stream",
     "text": [
      "enter yor stringjhjkhkjj\n",
      "jhjkhkjj\n"
     ]
    }
   ],
   "source": [
    "a=str(input(\"enter yor string\"))\n",
    "print(a)"
   ]
  },
  {
   "cell_type": "markdown",
   "metadata": {},
   "source": [
    "## keyword:\n",
    "    - it is reserved word and it has special meaning in python"
   ]
  },
  {
   "cell_type": "code",
   "execution_count": 29,
   "metadata": {},
   "outputs": [
    {
     "name": "stdout",
     "output_type": "stream",
     "text": [
      "['False', 'None', 'True', 'and', 'as', 'assert', 'async', 'await', 'break', 'class', 'continue', 'def', 'del', 'elif', 'else', 'except', 'finally', 'for', 'from', 'global', 'if', 'import', 'in', 'is', 'lambda', 'nonlocal', 'not', 'or', 'pass', 'raise', 'return', 'try', 'while', 'with', 'yield']\n",
      "35\n"
     ]
    }
   ],
   "source": [
    "import keyword\n",
    "print(keyword.kwlist)\n",
    "# to know the length of the keywords..\n",
    "print(len(keyword.kwlist))"
   ]
  },
  {
   "cell_type": "markdown",
   "metadata": {},
   "source": [
    "### python comments:\n",
    "    - single line comments--->#\n",
    "    - multi line comments--->''' \n",
    "                                    ## block of code\n",
    "                                    '''\n",
    "                                    or\n",
    "                              \"\"\"\n",
    "                                  ### block of code\n",
    "                              \n",
    "                                  \"\"\""
   ]
  },
  {
   "cell_type": "markdown",
   "metadata": {},
   "source": [
    "#### python operators\n",
    "        - Operators are used to perform any operation on variables\n",
    "            and values\n",
    "                ex:print(20+80)  #operands-20,80  #operator-(+)\n",
    "                ex:a=90,b=80\n",
    "                    print(a-b)  # operands-a,b # operator-(-)\n",
    "                    \n",
    "                    \n",
    "#### 7 types of operators are available in python:\n",
    "        - 1.arithmetic operators\n",
    "        - 2.assignment operators\n",
    "        - 3.comparision operators\n",
    "        - 4.logical operators\n",
    "        - 5.Identity operators\n",
    "        - 6.Membership operators\n",
    "        - 7.Bitwise Operators"
   ]
  },
  {
   "cell_type": "code",
   "execution_count": null,
   "metadata": {},
   "outputs": [],
   "source": [
    "### arthimetic Operators(+,-,*,/,%,//,**)\n",
    "    - it is used to perform commom mathematical operatins"
   ]
  },
  {
   "cell_type": "code",
   "execution_count": 21,
   "metadata": {
    "collapsed": true
   },
   "outputs": [
    {
     "name": "stdout",
     "output_type": "stream",
     "text": [
      "Enter your first value30\n",
      "Enter your second value15\n",
      "45\n",
      "15\n",
      "450\n",
      "2.0\n",
      "0\n",
      "2\n",
      "14348907000000000000000\n"
     ]
    }
   ],
   "source": [
    "a=int(input(\"Enter your first value\"))\n",
    "b=int(input(\"Enter your second value\"))\n",
    "print(a+b)#addition\n",
    "print(a-b)#subtraction\n",
    "print(a*b)#multiplication\n",
    "print(a/b)#division\n",
    "print(a%b)#modulo\n",
    "print(a//b)#floor division\n",
    "print(a**b)# power"
   ]
  },
  {
   "cell_type": "code",
   "execution_count": null,
   "metadata": {},
   "outputs": [],
   "source": [
    "## assignment operators(=,+=,-=,*=,/=,//=,**=)\n",
    "    - To assign the values to variables"
   ]
  },
  {
   "cell_type": "code",
   "execution_count": 28,
   "metadata": {},
   "outputs": [
    {
     "name": "stdout",
     "output_type": "stream",
     "text": [
      "Enter your first number45\n",
      "Enter your second number65\n",
      "110\n",
      "45\n",
      "20\n",
      "900\n",
      "45.0\n"
     ]
    }
   ],
   "source": [
    "a=int(input(\"Enter your first number\"))\n",
    "b=int(input(\"Enter your second number\"))\n",
    "a+=b #a=a+b =>20=20+45 =>65\n",
    "print(a)\n",
    "a-=b #a=a-b  =>65=65-45 =>20\n",
    "print(a)\n",
    "b-=a  #b=b-a =>45=45-20=25\n",
    "print(b)\n",
    "a*=b  #a=a*b =>20=20*25=500\n",
    "print(a)\n",
    "a/=b #a=a/b  =>500=500/25\n",
    "print(a)\n"
   ]
  },
  {
   "cell_type": "code",
   "execution_count": 23,
   "metadata": {},
   "outputs": [
    {
     "name": "stdout",
     "output_type": "stream",
     "text": [
      "1\n"
     ]
    }
   ],
   "source": [
    "c=0\n",
    "c+=1  #c=c+1 =>0=0+1 =>1\n",
    "print(c)"
   ]
  },
  {
   "cell_type": "code",
   "execution_count": null,
   "metadata": {},
   "outputs": [],
   "source": []
  }
 ],
 "metadata": {
  "kernelspec": {
   "display_name": "Python 3",
   "language": "python",
   "name": "python3"
  },
  "language_info": {
   "codemirror_mode": {
    "name": "ipython",
    "version": 3
   },
   "file_extension": ".py",
   "mimetype": "text/x-python",
   "name": "python",
   "nbconvert_exporter": "python",
   "pygments_lexer": "ipython3",
   "version": "3.7.3"
  }
 },
 "nbformat": 4,
 "nbformat_minor": 2
}
