{
 "cells": [
  {
   "cell_type": "markdown",
   "metadata": {},
   "source": [
    "### a.Given a string, write a program to check if the string is symmetrical and palindrome or not. A string is said to be symmetrical if both the halves of the string are the same and a string is said to be a palindrome string if one half of the string is the reverse of the other half or if a string appears same when read forward or backward."
   ]
  },
  {
   "cell_type": "code",
   "execution_count": 2,
   "metadata": {
    "collapsed": true
   },
   "outputs": [
    {
     "name": "stdout",
     "output_type": "stream",
     "text": [
      "['__add__', '__class__', '__contains__', '__delattr__', '__dir__', '__doc__', '__eq__', '__format__', '__ge__', '__getattribute__', '__getitem__', '__getnewargs__', '__gt__', '__hash__', '__init__', '__init_subclass__', '__iter__', '__le__', '__len__', '__lt__', '__mod__', '__mul__', '__ne__', '__new__', '__reduce__', '__reduce_ex__', '__repr__', '__rmod__', '__rmul__', '__setattr__', '__sizeof__', '__str__', '__subclasshook__', 'capitalize', 'casefold', 'center', 'count', 'encode', 'endswith', 'expandtabs', 'find', 'format', 'format_map', 'index', 'isalnum', 'isalpha', 'isascii', 'isdecimal', 'isdigit', 'isidentifier', 'islower', 'isnumeric', 'isprintable', 'isspace', 'istitle', 'isupper', 'join', 'ljust', 'lower', 'lstrip', 'maketrans', 'partition', 'replace', 'rfind', 'rindex', 'rjust', 'rpartition', 'rsplit', 'rstrip', 'split', 'splitlines', 'startswith', 'strip', 'swapcase', 'title', 'translate', 'upper', 'zfill']\n"
     ]
    }
   ],
   "source": [
    "print(dir(str))"
   ]
  },
  {
   "cell_type": "code",
   "execution_count": null,
   "metadata": {},
   "outputs": [],
   "source": [
    "#### slicing--->multiple characters--string[start range:end range+1:steps]"
   ]
  },
  {
   "cell_type": "code",
   "execution_count": 15,
   "metadata": {},
   "outputs": [
    {
     "name": "stdout",
     "output_type": "stream",
     "text": [
      "python\n",
      "o\n",
      "n\n",
      "pyt\n",
      "6\n",
      "nohtyp\n"
     ]
    }
   ],
   "source": [
    "s=\"python\"  ### -->6,index=5\n",
    "print(s)\n",
    "print(s[4])\n",
    "print(s[5])\n",
    "print(s[:3])\n",
    "print(len(s))\n",
    "print(s[::-1])"
   ]
  },
  {
   "cell_type": "code",
   "execution_count": null,
   "metadata": {},
   "outputs": [],
   "source": [
    "## user->\"string\"\n",
    "## symmetrical-->kho kho, amma amma,ab ab\n",
    "## palindrome-->reverse->amma--amma,malayalam,mom,mam,"
   ]
  },
  {
   "cell_type": "code",
   "execution_count": 27,
   "metadata": {},
   "outputs": [
    {
     "name": "stdout",
     "output_type": "stream",
     "text": [
      "enter a stringamma\n",
      "4\n",
      "2\n",
      "string is not a symmetrical\n",
      "given string is palindrome\n"
     ]
    }
   ],
   "source": [
    "s=input(\"enter a string\")\n",
    "print(len(s))\n",
    "half=int(len(s)/2)\n",
    "print(half)\n",
    "if int(len(s)%2)==0:\n",
    "    first_str=s[:half]\n",
    "    second_str=s[half:]\n",
    "else:\n",
    "    first_str=s[:half]\n",
    "    second_str=s[half+1:]\n",
    "    \n",
    "### to check symmetric\n",
    "\n",
    "if first_str==second_str:\n",
    "    print(\"string is symmetrical\")\n",
    "else:\n",
    "    print(\"string is not a symmetrical\")\n",
    "    \n",
    "    \n",
    "## to check palindrome\n",
    "\n",
    "if first_str==second_str[::-1]:\n",
    "    print(\"given string is palindrome\")\n",
    "else:\n",
    "    print(\"not a palindrome\")"
   ]
  },
  {
   "cell_type": "markdown",
   "metadata": {},
   "source": [
    "### b.Write a program to read a string and count the number of vowel letters and print all letters except 'e' and 's'."
   ]
  },
  {
   "cell_type": "code",
   "execution_count": 41,
   "metadata": {},
   "outputs": [
    {
     "name": "stdout",
     "output_type": "stream",
     "text": [
      "Enter your stringdileep\n",
      "{'A', 'I', 'u', 'U', 'e', 'O', 'a', 'o', 'i', 'E'}\n",
      "3\n"
     ]
    }
   ],
   "source": [
    "str=input(\"Enter your string\")\n",
    "count=0\n",
    "vowels=set(\"aeiouAEIOU\")\n",
    "print(vowels)\n",
    "for i in str:\n",
    "    if i in vowels:\n",
    "        count=count+1\n",
    "print(count)\n"
   ]
  },
  {
   "cell_type": "code",
   "execution_count": 43,
   "metadata": {},
   "outputs": [
    {
     "name": "stdout",
     "output_type": "stream",
     "text": [
      "Enter your stringsrikanya\n",
      "{'A', 'I', 'u', 'U', 'e', 'O', 'a', 'o', 'i', 'E'}\n",
      "r i k a n y a "
     ]
    }
   ],
   "source": [
    "str=input(\"Enter your string\")\n",
    "vowels=set(\"aeiouAEIOU\")\n",
    "print(vowels)\n",
    "for i in str:\n",
    "    if i!='e' and i!='s':\n",
    "        print(i,end=\" \")"
   ]
  },
  {
   "cell_type": "markdown",
   "metadata": {},
   "source": [
    "#### c.Write a program to read a line of text and remove the initial word from given text. (Hint: Use split() method, Input : India is my country. Output : is my country)"
   ]
  },
  {
   "cell_type": "code",
   "execution_count": null,
   "metadata": {},
   "outputs": [],
   "source": [
    "### i/p:india is my country-- is my country"
   ]
  },
  {
   "cell_type": "code",
   "execution_count": 63,
   "metadata": {},
   "outputs": [
    {
     "name": "stdout",
     "output_type": "stream",
     "text": [
      "India is my country\n",
      "is my country\n"
     ]
    }
   ],
   "source": [
    "str=\"India is my country\"\n",
    "print(str)\n",
    "res=str.split(' ',1)[1]\n",
    "print(res)"
   ]
  },
  {
   "cell_type": "markdown",
   "metadata": {},
   "source": [
    "### d.Write a program to read a string and count how many times each letter appears. (Histogram).\n"
   ]
  },
  {
   "cell_type": "code",
   "execution_count": null,
   "metadata": {},
   "outputs": [],
   "source": [
    "## histogram--h-1,i-1,s-1,t-1,o-1,.."
   ]
  },
  {
   "cell_type": "code",
   "execution_count": 65,
   "metadata": {},
   "outputs": [
    {
     "name": "stdout",
     "output_type": "stream",
     "text": [
      "Counter({'a': 2, 's': 1, 'r': 1, 'i': 1, 'k': 1, 'n': 1, 'y': 1})\n"
     ]
    }
   ],
   "source": [
    "from collections import Counter\n",
    "str=\"srikanya\"\n",
    "res=Counter(str)\n",
    "print(res)\n"
   ]
  },
  {
   "cell_type": "code",
   "execution_count": 69,
   "metadata": {
    "scrolled": true
   },
   "outputs": [
    {
     "name": "stdout",
     "output_type": "stream",
     "text": [
      "{'w': 1, 'o': 2, 'r': 1, 'k': 1, 's': 1, 'h': 1, 'p': 1}\n"
     ]
    }
   ],
   "source": [
    "str=\"workshop\"\n",
    "res={}\n",
    "for i in str:\n",
    "    res[i]=res.get(i,0)+1\n",
    "print(res)"
   ]
  },
  {
   "cell_type": "code",
   "execution_count": null,
   "metadata": {},
   "outputs": [],
   "source": []
  }
 ],
 "metadata": {
  "kernelspec": {
   "display_name": "Python 3",
   "language": "python",
   "name": "python3"
  },
  "language_info": {
   "codemirror_mode": {
    "name": "ipython",
    "version": 3
   },
   "file_extension": ".py",
   "mimetype": "text/x-python",
   "name": "python",
   "nbconvert_exporter": "python",
   "pygments_lexer": "ipython3",
   "version": "3.7.3"
  }
 },
 "nbformat": 4,
 "nbformat_minor": 2
}
