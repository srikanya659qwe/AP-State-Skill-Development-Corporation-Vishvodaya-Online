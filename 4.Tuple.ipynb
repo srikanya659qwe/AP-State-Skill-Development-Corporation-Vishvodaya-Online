{
 "cells": [
  {
   "cell_type": "markdown",
   "id": "5b2042d8",
   "metadata": {},
   "source": [
    "### a.\tGiven a list of tuples. Write a program to find tuples which have all elements divisible by K from a list of tuples. test_list = [(6, 24, 12), (60, 12, 6), (12, 18, 21)], K = 6, Output : [(6, 24, 12), (60, 12, 6)]"
   ]
  },
  {
   "cell_type": "code",
   "execution_count": 4,
   "id": "d91a6247",
   "metadata": {},
   "outputs": [
    {
     "name": "stdout",
     "output_type": "stream",
     "text": [
      "Enter k value!...6\n",
      "(6, 24, 12)\n",
      "(60, 12, 6)\n"
     ]
    }
   ],
   "source": [
    "LT = [(6, 24, 12), (60, 12, 6), (12, 18, 21)]\n",
    "k = int(input(\"Enter k value!...\"))\n",
    "for i in LT:\n",
    "    c = 0\n",
    "    for j in i:\n",
    "        if j%k==0:\n",
    "            c = c+1\n",
    "    if c==3:\n",
    "        print(i)"
   ]
  },
  {
   "cell_type": "code",
   "execution_count": 6,
   "id": "6fe8dd81",
   "metadata": {},
   "outputs": [
    {
     "data": {
      "text/plain": [
       "[(6, 24, 12), (60, 12, 6)]"
      ]
     },
     "execution_count": 6,
     "metadata": {},
     "output_type": "execute_result"
    }
   ],
   "source": [
    "# using all() method in LIST comprehension..\n",
    "r1 = [i for i in LT if all(j%k==0 for j in i)]\n",
    "r1"
   ]
  },
  {
   "cell_type": "markdown",
   "id": "33a039d1",
   "metadata": {},
   "source": [
    "### b.\tGiven a list of tuples. Write a program to filter all uppercase characters tuples from given list of tuples. (Input: test_list = [(“GFG”, “IS”, “BEST”), (“GFg”, “AVERAGE”), (“GfG”, ), (“Gfg”, “CS”)], Output : [(„GFG‟, „IS‟, „BEST‟)])."
   ]
  },
  {
   "cell_type": "code",
   "execution_count": 10,
   "id": "9864124e",
   "metadata": {},
   "outputs": [
    {
     "data": {
      "text/plain": [
       "[('GFG', 'IS', 'BEST')]"
      ]
     },
     "execution_count": 10,
     "metadata": {},
     "output_type": "execute_result"
    }
   ],
   "source": [
    "t = [(\"GFG\", \"IS\", \"BEST\"), (\"GFg\", \"AVERAGE\"), (\"GfG\", ), (\"Gfg\", \"CS\")]\n",
    "res = [i for i in t if all(j.isupper() for j in i)]\n",
    "res"
   ]
  },
  {
   "cell_type": "code",
   "execution_count": 11,
   "id": "10d09c19",
   "metadata": {},
   "outputs": [
    {
     "name": "stdout",
     "output_type": "stream",
     "text": [
      "GFG\n",
      "IS\n",
      "BEST\n",
      "GFg\n",
      "AVERAGE\n",
      "GfG\n",
      "Gfg\n",
      "CS\n"
     ]
    }
   ],
   "source": [
    "for i in t:\n",
    "    for j in i:\n",
    "        print(j)"
   ]
  },
  {
   "cell_type": "markdown",
   "id": "84c9ea58",
   "metadata": {},
   "source": [
    "### c.\tGiven a tuple and a list as input, write a program to count the occurrences of all items of the list in the tuple. (Input : tuple = ('a', 'a', 'c', 'b', 'd'), list = ['a', 'b'], Output : 3)"
   ]
  },
  {
   "cell_type": "code",
   "execution_count": 15,
   "id": "99b957d3",
   "metadata": {},
   "outputs": [
    {
     "name": "stdout",
     "output_type": "stream",
     "text": [
      "3\n"
     ]
    }
   ],
   "source": [
    "t1 = ('a', 'a', 'c', 'b', 'd','d','e')\n",
    "L1 =['a','b']\n",
    "sum1 = 0\n",
    "for i in L1:\n",
    "    sum1 = sum1 + t1.count(i) # using count method to find the occurences\n",
    "print(sum1)"
   ]
  },
  {
   "cell_type": "code",
   "execution_count": null,
   "id": "5377d187",
   "metadata": {},
   "outputs": [],
   "source": []
  }
 ],
 "metadata": {
  "kernelspec": {
   "display_name": "Python 3",
   "language": "python",
   "name": "python3"
  },
  "language_info": {
   "codemirror_mode": {
    "name": "ipython",
    "version": 3
   },
   "file_extension": ".py",
   "mimetype": "text/x-python",
   "name": "python",
   "nbconvert_exporter": "python",
   "pygments_lexer": "ipython3",
   "version": "3.8.8"
  }
 },
 "nbformat": 4,
 "nbformat_minor": 5
}
