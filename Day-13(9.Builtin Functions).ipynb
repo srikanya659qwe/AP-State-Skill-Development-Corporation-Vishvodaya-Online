{
 "cells": [
  {
   "cell_type": "markdown",
   "metadata": {},
   "source": [
    "## BUILT-IN FUNCTIONS"
   ]
  },
  {
   "cell_type": "markdown",
   "metadata": {},
   "source": [
    "### a.Write a program to demonstrate the working of built-in statistical functions mean(), mode(), median() by importing statistics library."
   ]
  },
  {
   "cell_type": "code",
   "execution_count": null,
   "metadata": {},
   "outputs": [],
   "source": [
    "### mean--->sum of total elemenets/totoal number-->37/10=3.7\n",
    "### mode---->noof occuraces or repeated element\n",
    "### median--->divide the elements into equal part"
   ]
  },
  {
   "cell_type": "code",
   "execution_count": 8,
   "metadata": {},
   "outputs": [
    {
     "name": "stdout",
     "output_type": "stream",
     "text": [
      "<class 'list'>\n",
      "mean of given data is: 3.4444444444444446\n",
      "mode of given data is: 4\n",
      "median of given data is: 4\n"
     ]
    }
   ],
   "source": [
    "import statistics\n",
    "s1=[1,2,3,3,4,4,4,5,5]\n",
    "print(type(s1))\n",
    "print(\"mean of given data is:\",statistics.mean(s1))\n",
    "print(\"mode of given data is:\",statistics.mode(s1))\n",
    "print(\"median of given data is:\",statistics.median(s1))"
   ]
  },
  {
   "cell_type": "markdown",
   "metadata": {},
   "source": [
    "### b.Write a program to demonstrate the working of built-in trignometric functions sin(), cos(), tan(), hypot(), degrees(), radians() by importing math module."
   ]
  },
  {
   "cell_type": "code",
   "execution_count": 11,
   "metadata": {},
   "outputs": [
    {
     "name": "stdout",
     "output_type": "stream",
     "text": [
      "sin values is: 0.644217687237691\n",
      "sin values is: 0.7648421872844885\n",
      "sin values is: 0.8422883804630794\n"
     ]
    }
   ],
   "source": [
    "import math\n",
    "x=0.7\n",
    "print(\"sin values is:\",math.sin(x))\n",
    "print(\"sin values is:\",math.cos(x))\n",
    "print(\"sin values is:\",math.tan(x))"
   ]
  },
  {
   "cell_type": "code",
   "execution_count": null,
   "metadata": {},
   "outputs": [],
   "source": [
    "## hypot(a,b):this is returns the hypotenuse of the values passed in arguments\n",
    "### it returns the value of sqrt(a*a+b*b)"
   ]
  },
  {
   "cell_type": "code",
   "execution_count": 13,
   "metadata": {},
   "outputs": [
    {
     "name": "stdout",
     "output_type": "stream",
     "text": [
      "the value of hypotenuse of 3 and 4 is : 5.0\n"
     ]
    }
   ],
   "source": [
    "a=3\n",
    "b=4\n",
    "print(\"the value of hypotenuse of 3 and 4 is :\",math.hypot(3,4))"
   ]
  },
  {
   "cell_type": "code",
   "execution_count": null,
   "metadata": {},
   "outputs": [],
   "source": [
    "### degrees()-this functions is returns convert argument value from radians to degrees"
   ]
  },
  {
   "cell_type": "code",
   "execution_count": 18,
   "metadata": {},
   "outputs": [
    {
     "name": "stdout",
     "output_type": "stream",
     "text": [
      "0.5235987755982988\n",
      "the converted value from radians to degrees: 29.999999999999996\n",
      "the converted value from degrees to radians: 0.5235987755982988\n"
     ]
    }
   ],
   "source": [
    "a=math.pi/6\n",
    "b=30\n",
    "print(a)\n",
    "print(\"the converted value from radians to degrees:\",math.degrees(a))\n",
    "print(\"the converted value from degrees to radians:\",math.radians(b))"
   ]
  },
  {
   "cell_type": "code",
   "execution_count": 17,
   "metadata": {},
   "outputs": [
    {
     "name": "stdout",
     "output_type": "stream",
     "text": [
      "29.999999999999996\n"
     ]
    }
   ],
   "source": [
    "print(math.degrees(a))"
   ]
  },
  {
   "cell_type": "code",
   "execution_count": null,
   "metadata": {},
   "outputs": [],
   "source": []
  }
 ],
 "metadata": {
  "kernelspec": {
   "display_name": "Python 3",
   "language": "python",
   "name": "python3"
  },
  "language_info": {
   "codemirror_mode": {
    "name": "ipython",
    "version": 3
   },
   "file_extension": ".py",
   "mimetype": "text/x-python",
   "name": "python",
   "nbconvert_exporter": "python",
   "pygments_lexer": "ipython3",
   "version": "3.7.3"
  }
 },
 "nbformat": 4,
 "nbformat_minor": 2
}
