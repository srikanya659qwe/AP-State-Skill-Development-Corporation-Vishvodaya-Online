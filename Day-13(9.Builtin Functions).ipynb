{
 "cells": [
  {
   "cell_type": "markdown",
   "metadata": {},
   "source": [
    "## BUILT-IN FUNCTIONS"
   ]
  },
  {
   "cell_type": "markdown",
   "metadata": {},
   "source": [
    "### a.Write a program to demonstrate the working of built-in statistical functions mean(), mode(), median() by importing statistics library."
   ]
  },
  {
   "cell_type": "code",
   "execution_count": null,
   "metadata": {},
   "outputs": [],
   "source": [
    "### mean--->sum of total elemenets/totoal number-->37/10=3.7\n",
    "### mode---->noof occuraces or repeated element\n",
    "### median--->divide the elements into equal part"
   ]
  },
  {
   "cell_type": "code",
   "execution_count": 8,
   "metadata": {},
   "outputs": [
    {
     "name": "stdout",
     "output_type": "stream",
     "text": [
      "<class 'list'>\n",
      "mean of given data is: 3.4444444444444446\n",
      "mode of given data is: 4\n",
      "median of given data is: 4\n"
     ]
    }
   ],
   "source": [
    "import statistics\n",
    "s1=[1,2,3,3,4,4,4,5,5]\n",
    "print(type(s1))\n",
    "print(\"mean of given data is:\",statistics.mean(s1))\n",
    "print(\"mode of given data is:\",statistics.mode(s1))\n",
    "print(\"median of given data is:\",statistics.median(s1))"
   ]
  },
  {
   "cell_type": "markdown",
   "metadata": {},
   "source": [
    "### b.Write a program to demonstrate the working of built-in trignometric functions sin(), cos(), tan(), hypot(), degrees(), radians() by importing math module."
   ]
  },
  {
   "cell_type": "code",
   "execution_count": 11,
   "metadata": {},
   "outputs": [
    {
     "name": "stdout",
     "output_type": "stream",
     "text": [
      "sin values is: 0.644217687237691\n",
      "sin values is: 0.7648421872844885\n",
      "sin values is: 0.8422883804630794\n"
     ]
    }
   ],
   "source": [
    "import math\n",
    "x=0.7\n",
    "print(\"sin values is:\",math.sin(x))\n",
    "print(\"sin values is:\",math.cos(x))\n",
    "print(\"sin values is:\",math.tan(x))"
   ]
  },
  {
   "cell_type": "code",
   "execution_count": null,
   "metadata": {},
   "outputs": [],
   "source": [
    "## hypot(a,b):this is returns the hypotenuse of the values passed in arguments\n",
    "### it returns the value of sqrt(a*a+b*b)"
   ]
  },
  {
   "cell_type": "code",
   "execution_count": 13,
   "metadata": {},
   "outputs": [
    {
     "name": "stdout",
     "output_type": "stream",
     "text": [
      "the value of hypotenuse of 3 and 4 is : 5.0\n"
     ]
    }
   ],
   "source": [
    "a=3\n",
    "b=4\n",
    "print(\"the value of hypotenuse of 3 and 4 is :\",math.hypot(3,4))"
   ]
  },
  {
   "cell_type": "code",
   "execution_count": null,
   "metadata": {},
   "outputs": [],
   "source": [
    "### degrees()-this functions is returns convert argument value from radians to degrees\n",
    "### radianss()-this functions is returns convert argument value from degrees to radians\n"
   ]
  },
  {
   "cell_type": "code",
   "execution_count": 18,
   "metadata": {},
   "outputs": [
    {
     "name": "stdout",
     "output_type": "stream",
     "text": [
      "0.5235987755982988\n",
      "the converted value from radians to degrees: 29.999999999999996\n",
      "the converted value from degrees to radians: 0.5235987755982988\n"
     ]
    }
   ],
   "source": [
    "a=math.pi/6\n",
    "b=30\n",
    "print(a)\n",
    "print(\"the converted value from radians to degrees:\",math.degrees(a))\n",
    "print(\"the converted value from degrees to radians:\",math.radians(b))"
   ]
  },
  {
   "cell_type": "code",
   "execution_count": 17,
   "metadata": {},
   "outputs": [
    {
     "name": "stdout",
     "output_type": "stream",
     "text": [
      "29.999999999999996\n"
     ]
    }
   ],
   "source": [
    "print(math.degrees(a))"
   ]
  },
  {
   "cell_type": "markdown",
   "metadata": {},
   "source": [
    "### c.Write a program to demonstrate the working of built-in Logarithmic and Power functions exp(), log(), log2(), log10(), pow() by importing math module."
   ]
  },
  {
   "cell_type": "code",
   "execution_count": null,
   "metadata": {},
   "outputs": [],
   "source": [
    "### exp(a):this function returns the value of e raised the power a(e**a)\n",
    "### log(a,b):this function is returns the logrithimic value of a with base b. \n",
    "### log2(a):this function returns compute the value of log a with base 2\n",
    "### log10(a):this function returns compute the value of log a with base 10\n",
    "#### pow(a,b):this function is used to compute the value of power b.power(a**b)"
   ]
  },
  {
   "cell_type": "code",
   "execution_count": 16,
   "metadata": {},
   "outputs": [
    {
     "name": "stdout",
     "output_type": "stream",
     "text": [
      "the exponential value of 4 is: 54.598150033144236\n",
      "the logrithimic value 2 with base 3 is: 0.6309297535714574\n",
      "the value of log2 of 16 is : 4.643856189774724\n",
      "the value of log2 of 16 is : 3.0\n",
      "tha value of power of 3 and 2 is: 125.0\n"
     ]
    }
   ],
   "source": [
    "import math\n",
    "print(\"the exponential value of 4 is:\",math.exp(4))\n",
    "print(\"the logrithimic value 2 with base 3 is:\",math.log(2,3))\n",
    "print(\"the value of log2 of 16 is :\",math.log2(25))\n",
    "print(\"the value of log2 of 16 is :\",math.log10(1000))\n",
    "print(\"tha value of power of 3 and 2 is:\",math.pow(5,3))\n"
   ]
  },
  {
   "cell_type": "markdown",
   "metadata": {},
   "source": [
    "### d.Write a program to demonstrate the working of built-in numeric functions ceil(), floor(), fabs(), factorial(), gcd() by importing math module."
   ]
  },
  {
   "cell_type": "code",
   "execution_count": null,
   "metadata": {},
   "outputs": [],
   "source": [
    "### ceil()-it returns smallest integer value greather than the number\n",
    "### floor()-it returns the greatest number  smaller than the number\n",
    "### fabs()- it returns absolute value\n",
    "### factorial()- it returns factorial value\n",
    "### gcd()-"
   ]
  },
  {
   "cell_type": "code",
   "execution_count": 33,
   "metadata": {},
   "outputs": [
    {
     "name": "stdout",
     "output_type": "stream",
     "text": [
      "2\n",
      "3\n",
      "5040\n",
      "7.0\n",
      "9.0\n",
      "12\n"
     ]
    }
   ],
   "source": [
    "import math\n",
    "a=2.3\n",
    "b=7\n",
    "c=-9\n",
    "print(math.floor(a))\n",
    "print(math.ceil(a))\n",
    "print(math.factorial(b))\n",
    "print(math.fabs(b))\n",
    "print(math.fabs(c))\n",
    "print(math.gcd(60,48))\n"
   ]
  },
  {
   "cell_type": "code",
   "execution_count": null,
   "metadata": {},
   "outputs": [],
   "source": []
  }
 ],
 "metadata": {
  "kernelspec": {
   "display_name": "Python 3",
   "language": "python",
   "name": "python3"
  },
  "language_info": {
   "codemirror_mode": {
    "name": "ipython",
    "version": 3
   },
   "file_extension": ".py",
   "mimetype": "text/x-python",
   "name": "python",
   "nbconvert_exporter": "python",
   "pygments_lexer": "ipython3",
   "version": "3.7.3"
  }
 },
 "nbformat": 4,
 "nbformat_minor": 2
}
